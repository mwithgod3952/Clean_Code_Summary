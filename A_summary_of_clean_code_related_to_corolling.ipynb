{
  "nbformat": 4,
  "nbformat_minor": 0,
  "metadata": {
    "colab": {
      "name": "A_summary_of_clean_code_related_to_corolling",
      "provenance": [],
      "collapsed_sections": [],
      "authorship_tag": "ABX9TyO4o3bJKC6RJQpGhCk9z8ln",
      "include_colab_link": true
    },
    "kernelspec": {
      "name": "python3",
      "display_name": "Python 3"
    },
    "language_info": {
      "name": "python"
    }
  },
  "cells": [
    {
      "cell_type": "markdown",
      "metadata": {
        "id": "view-in-github",
        "colab_type": "text"
      },
      "source": [
        "<a href=\"https://colab.research.google.com/github/mwithgod3952/Clean_Code_Summary/blob/main/A_summary_of_clean_code_related_to_corolling.ipynb\" target=\"_parent\"><img src=\"https://colab.research.google.com/assets/colab-badge.svg\" alt=\"Open In Colab\"/></a>"
      ]
    },
    {
      "cell_type": "markdown",
      "metadata": {
        "id": "pg_ZhaoVojB3"
      },
      "source": [
        "***1) HTML(Hyper Text Markup Language) 구성의 예시 정리***"
      ]
    },
    {
      "cell_type": "code",
      "metadata": {
        "id": "dWuOYK4aw_8o"
      },
      "source": [
        "# html, head, a 등을 우리는 일련의 'Tag'라 함\n",
        "<html>\n",
        "    <head>\n",
        "    <meta charset=\"utf-8\">\n",
        "        <title>JH Homepage</title>\n",
        "    <head>\n",
        "        <body>\n",
        "            # type, value 등을 attribute라고 하며, 이것들이 모여 하나의 element를 형성\n",
        "            <input type=\"text\" value=\"ID\">\n",
        "            <input type=\"password\" value=\"pasword\">\n",
        "            <input type=\"button\" value=\"Login\">\n",
        "            <a href=\"http://google.com\">Go to google</a>\n",
        "        </body>\n",
        "</html> "
      ],
      "execution_count": null,
      "outputs": []
    },
    {
      "cell_type": "markdown",
      "metadata": {
        "id": "gbpr2sMWwJW0"
      },
      "source": [
        "\n",
        "<html>\n",
        "    <head>\n",
        "    <meta charset=\"utf-8\">\n",
        "        <title>JH Homepage</title>\n",
        "    <head>\n",
        "        <body>\n",
        "            <input type=\"text\" value=\"ID\">\n",
        "            <input type=\"password\">\n",
        "            <input type=\"button\" value=\"Login\">\n",
        "            <a href=\"http://google.com\">Go to google</a>\n",
        "        </body>\n",
        "</html> "
      ]
    },
    {
      "cell_type": "markdown",
      "metadata": {
        "id": "i65qEPc6vZdY"
      },
      "source": [
        "***2) XPath***\n",
        "\n",
        "    : Parent, Child, Sibling의 모든 관계규명은 생략하고\n",
        "    : 고유의 식별자로 하여금 단번에 접근하기 위한 Path\n"
      ]
    },
    {
      "cell_type": "code",
      "metadata": {
        "id": "YtTZE5t52vaD"
      },
      "source": [
        "'''\n",
        "/ : 하위 Element로 이동을 의미\n",
        "* : 모든 Tag를 의미\n",
        "@ : 속성(Attribute)를 의미\n",
        "'''\n",
        "# XPath의 예시 (네이버 로그인 버튼에 관하여)\n",
        "# 'id'리는 속성이 \"account\" 인 것들 중 'a'Tag를 찾을 것\n",
        "//*[@id=\"account\"]/a\n",
        "/html/body/div[2]/div[3]/div[3]/div/div[2]/a"
      ],
      "execution_count": null,
      "outputs": []
    },
    {
      "cell_type": "code",
      "metadata": {
        "id": "YfrnwrT623a_"
      },
      "source": [
        ""
      ],
      "execution_count": null,
      "outputs": []
    }
  ]
}