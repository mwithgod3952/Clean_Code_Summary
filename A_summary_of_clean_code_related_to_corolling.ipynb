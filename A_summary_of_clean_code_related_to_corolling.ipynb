{
  "nbformat": 4,
  "nbformat_minor": 0,
  "metadata": {
    "colab": {
      "name": "A_summary_of_clean_code_related_to_corolling",
      "provenance": [],
      "collapsed_sections": [],
      "authorship_tag": "ABX9TyNdheVns/AMsGBNLwfdOGTQ",
      "include_colab_link": true
    },
    "kernelspec": {
      "name": "python3",
      "display_name": "Python 3"
    },
    "language_info": {
      "name": "python"
    },
    "accelerator": "TPU"
  },
  "cells": [
    {
      "cell_type": "markdown",
      "metadata": {
        "id": "view-in-github",
        "colab_type": "text"
      },
      "source": [
        "<a href=\"https://colab.research.google.com/github/mwithgod3952/Clean_Code_Summary/blob/main/A_summary_of_clean_code_related_to_corolling.ipynb\" target=\"_parent\"><img src=\"https://colab.research.google.com/assets/colab-badge.svg\" alt=\"Open In Colab\"/></a>"
      ]
    },
    {
      "cell_type": "markdown",
      "metadata": {
        "id": "pg_ZhaoVojB3"
      },
      "source": [
        "***1) HTML(Hyper Text Markup Language) 구성의 예시 정리***"
      ]
    },
    {
      "cell_type": "code",
      "metadata": {
        "id": "dWuOYK4aw_8o"
      },
      "source": [
        "# html, head, a 등을 우리는 일련의 'Tag'라 함\n",
        "<html>\n",
        "    <head>\n",
        "    <meta charset=\"utf-8\">\n",
        "        <title>JH Homepage</title>\n",
        "    <head>\n",
        "        <body>\n",
        "            # type, value 등을 attribute라고 하며, 이것들이 모여 하나의 element를 형성\n",
        "            <input type=\"text\" value=\"ID\">\n",
        "            <input type=\"password\" value=\"pasword\">\n",
        "            <input type=\"button\" value=\"Login\">\n",
        "            <a href=\"http://google.com\">Go to google</a>\n",
        "        </body>\n",
        "</html> "
      ],
      "execution_count": null,
      "outputs": []
    },
    {
      "cell_type": "markdown",
      "metadata": {
        "id": "gbpr2sMWwJW0"
      },
      "source": [
        "\n",
        "<html>\n",
        "    <head>\n",
        "    <meta charset=\"utf-8\">\n",
        "        <title>JH Homepage</title>\n",
        "    <head>\n",
        "        <body>\n",
        "            <input type=\"text\" value=\"ID\">\n",
        "            <input type=\"password\">\n",
        "            <input type=\"button\" value=\"Login\">\n",
        "            <a href=\"http://google.com\">Go to google</a>\n",
        "        </body>\n",
        "</html> "
      ]
    },
    {
      "cell_type": "markdown",
      "metadata": {
        "id": "i65qEPc6vZdY"
      },
      "source": [
        "***2) XPath***\n",
        "\n",
        "    : Parent, Child, Sibling의 모든 관계규명은 생략하고\n",
        "    : 고유의 식별자로 하여금 단번에 접근하기 위한 Path\n"
      ]
    },
    {
      "cell_type": "code",
      "metadata": {
        "id": "YtTZE5t52vaD"
      },
      "source": [
        "'''\n",
        "/ : 하위 Element로 이동을 의미\n",
        "* : 모든 Tag를 의미\n",
        "@ : 속성(Attribute)를 의미\n",
        "'''\n",
        "# XPath의 예시 (네이버 로그인 버튼에 관하여)\n",
        "# 'id'리는 속성이 \"account\" 인 것들 중 'a'Tag를 찾을 것\n",
        "//*[@id=\"account\"]/a\n",
        "/html/body/div[2]/div[3]/div[3]/div/div[2]/a"
      ],
      "execution_count": null,
      "outputs": []
    },
    {
      "cell_type": "markdown",
      "metadata": {
        "id": "YfrnwrT623a_"
      },
      "source": [
        "***3) Requests***"
      ]
    },
    {
      "cell_type": "code",
      "metadata": {
        "id": "cQGUpLs3Rxir"
      },
      "source": [
        "import requests"
      ],
      "execution_count": null,
      "outputs": []
    },
    {
      "cell_type": "code",
      "metadata": {
        "id": "oQnVL3eIR17O"
      },
      "source": [
        "url = \"http://google.com\"\n",
        "res = requests.get(url)\n",
        "res.raise_for_status()\n",
        "\n",
        "# if res.status_code == requests.codes.ok:"
      ],
      "execution_count": null,
      "outputs": []
    },
    {
      "cell_type": "code",
      "metadata": {
        "id": "D-oRoGcOSw-C"
      },
      "source": [
        "with open(\"scraping_google.html\", \"w\", encoding='utf*8') as f:\n",
        "    f.write(res.text)"
      ],
      "execution_count": null,
      "outputs": []
    },
    {
      "cell_type": "markdown",
      "metadata": {
        "id": "qpagxU_wTveZ"
      },
      "source": [
        "***4) Regular expression***"
      ]
    },
    {
      "cell_type": "code",
      "metadata": {
        "id": "JITfnIp8Ue8b"
      },
      "source": [
        "import re"
      ],
      "execution_count": null,
      "outputs": []
    },
    {
      "cell_type": "code",
      "metadata": {
        "colab": {
          "base_uri": "https://localhost:8080/"
        },
        "id": "ejQKb7uLYJAP",
        "outputId": "c0aeb893-c61f-42e2-8b9b-3c092063d1d2"
      },
      "source": [
        "# . : 하나의 문자를 의미\n",
        "# ^ : 문자열의 시작을 의미\n",
        "# $ : 문자열의 끝을 의미\n",
        "\n",
        "# compile > match > group\n",
        "p = re.compile(\"ca.e\")\n",
        "m = p.match(\"case\")\n",
        "print(m.group())"
      ],
      "execution_count": null,
      "outputs": [
        {
          "output_type": "stream",
          "text": [
            "case\n"
          ],
          "name": "stdout"
        }
      ]
    },
    {
      "cell_type": "code",
      "metadata": {
        "id": "85ks-d-GZFDY"
      },
      "source": [
        "def print_match(m):\n",
        "    if m:\n",
        "        print(m.group())\n",
        "    else:\n",
        "        print(\"matching failure\")"
      ],
      "execution_count": null,
      "outputs": []
    },
    {
      "cell_type": "code",
      "metadata": {
        "colab": {
          "base_uri": "https://localhost:8080/"
        },
        "id": "yjEtpkiXaWIc",
        "outputId": "d573642b-f4ca-4c31-d57f-d34a25c16817"
      },
      "source": [
        "m = p.match(\"good care\")\n",
        "print_match(m)"
      ],
      "execution_count": null,
      "outputs": [
        {
          "output_type": "stream",
          "text": [
            "matching failure\n"
          ],
          "name": "stdout"
        }
      ]
    },
    {
      "cell_type": "code",
      "metadata": {
        "colab": {
          "base_uri": "https://localhost:8080/"
        },
        "id": "v7BjGgCPaXeE",
        "outputId": "865598d8-8dc4-4ac4-92c0-d406aa546260"
      },
      "source": [
        "# math : 주어진 문자열의 처음부터 확인\n",
        "m = p.match(\"careless\")\n",
        "print_match(m)"
      ],
      "execution_count": null,
      "outputs": [
        {
          "output_type": "stream",
          "text": [
            "care\n"
          ],
          "name": "stdout"
        }
      ]
    },
    {
      "cell_type": "code",
      "metadata": {
        "colab": {
          "base_uri": "https://localhost:8080/"
        },
        "id": "Azl_DsIDah01",
        "outputId": "171e38fd-9662-482f-83d9-12a11a83e1ad"
      },
      "source": [
        "# search : 단순 일치여부 문자열 탐색\n",
        "m = p.search(\"good care\")\n",
        "print_match(m)"
      ],
      "execution_count": null,
      "outputs": [
        {
          "output_type": "stream",
          "text": [
            "care\n"
          ],
          "name": "stdout"
        }
      ]
    },
    {
      "cell_type": "code",
      "metadata": {
        "id": "grgcS3L_as-1"
      },
      "source": [
        "def print_match_1(m):\n",
        "    print(\" - result of group : \", m.group())\n",
        "    print(\" - result of       : \", m.string)\n",
        "    print(\" - result of start : \", m.start())\n",
        "    print(\" - result of end   : \", m.end())\n",
        "    print(\" - result of span  : \", m.span())"
      ],
      "execution_count": null,
      "outputs": []
    },
    {
      "cell_type": "code",
      "metadata": {
        "colab": {
          "base_uri": "https://localhost:8080/"
        },
        "id": "0xqV0cOobrE4",
        "outputId": "aab1017b-8144-4922-fa5f-2f2f2aaffb4a"
      },
      "source": [
        "m = p.search(\"careless\")\n",
        "print(print_match_1(m))"
      ],
      "execution_count": null,
      "outputs": [
        {
          "output_type": "stream",
          "text": [
            " - result of group :  care\n",
            " - result of       :  careless\n",
            " - result of start :  0\n",
            " - result of end   :  4\n",
            " - result of span  :  (0, 4)\n",
            "None\n"
          ],
          "name": "stdout"
        }
      ]
    },
    {
      "cell_type": "code",
      "metadata": {
        "colab": {
          "base_uri": "https://localhost:8080/"
        },
        "id": "gsaIKX4tcplZ",
        "outputId": "7c54eec7-b413-442d-ad5d-229a994d3717"
      },
      "source": [
        "m = p.search(\"good care\")\n",
        "print(print_match_1(m))"
      ],
      "execution_count": null,
      "outputs": [
        {
          "output_type": "stream",
          "text": [
            " - result of group :  care\n",
            " - result of       :  good care\n",
            " - result of start :  5\n",
            " - result of end   :  9\n",
            " - result of span  :  (5, 9)\n",
            "None\n"
          ],
          "name": "stdout"
        }
      ]
    },
    {
      "cell_type": "code",
      "metadata": {
        "colab": {
          "base_uri": "https://localhost:8080/"
        },
        "id": "RzeOcdoqc9AB",
        "outputId": "50fff47d-e8af-4345-e158-3d515768d6ed"
      },
      "source": [
        "# find all\n",
        "lst = p.findall(\"good cake is made in the good cafe\")\n",
        "lst"
      ],
      "execution_count": null,
      "outputs": [
        {
          "output_type": "execute_result",
          "data": {
            "text/plain": [
              "['cake', 'cafe']"
            ]
          },
          "metadata": {
            "tags": []
          },
          "execution_count": 34
        }
      ]
    },
    {
      "cell_type": "markdown",
      "metadata": {
        "id": "HBZh4iu-dN4q"
      },
      "source": [
        "***5) User Agent***"
      ]
    },
    {
      "cell_type": "code",
      "metadata": {
        "id": "ag7SroEedlo3"
      },
      "source": [
        "import requests"
      ],
      "execution_count": null,
      "outputs": []
    },
    {
      "cell_type": "code",
      "metadata": {
        "colab": {
          "base_uri": "https://localhost:8080/"
        },
        "id": "-9oF6C-Uu7hs",
        "outputId": "7fdafcd3-f14e-4194-a95d-4fbecdd4f482"
      },
      "source": [
        "headers = {\"User-Agent\":\"Mozilla/5.0 (Windows NT 10.0; Win64; x64) AppleWebKit/537.36 (KHTML, like Gecko) Chrome/92.0.4515.107 Safari/537.36\"}\n",
        "url = \"http://nadocoding.tistory.com\"\n",
        "res = requests.get(url, headers=headers)\n",
        "res.raise_for_status()\n",
        "print(len(res.text))"
      ],
      "execution_count": null,
      "outputs": [
        {
          "output_type": "stream",
          "text": [
            "43507\n"
          ],
          "name": "stdout"
        }
      ]
    },
    {
      "cell_type": "markdown",
      "metadata": {
        "id": "LdUuiLzQwB0e"
      },
      "source": [
        "***6) BeautifulSoup***"
      ]
    },
    {
      "cell_type": "code",
      "metadata": {
        "colab": {
          "base_uri": "https://localhost:8080/"
        },
        "id": "gMHZ_PMXxCiA",
        "outputId": "32aaf787-13c6-40dd-b005-d20dcdd36d61"
      },
      "source": [
        "!pip install beautifulsoup4"
      ],
      "execution_count": 1,
      "outputs": [
        {
          "output_type": "stream",
          "text": [
            "Requirement already satisfied: beautifulsoup4 in /usr/local/lib/python3.7/dist-packages (4.6.3)\n"
          ],
          "name": "stdout"
        }
      ]
    },
    {
      "cell_type": "code",
      "metadata": {
        "colab": {
          "base_uri": "https://localhost:8080/"
        },
        "id": "s7fnBGzoxM2D",
        "outputId": "6ca4e9db-7ce0-4490-ba28-52faf6999092"
      },
      "source": [
        "!pip install lxml # parser"
      ],
      "execution_count": 2,
      "outputs": [
        {
          "output_type": "stream",
          "text": [
            "Requirement already satisfied: lxml in /usr/local/lib/python3.7/dist-packages (4.2.6)\n"
          ],
          "name": "stdout"
        }
      ]
    },
    {
      "cell_type": "code",
      "metadata": {
        "id": "qZvZwfX3xRT_"
      },
      "source": [
        "import requests\n",
        "from bs4 import BeautifulSoup"
      ],
      "execution_count": 3,
      "outputs": []
    },
    {
      "cell_type": "code",
      "metadata": {
        "colab": {
          "base_uri": "https://localhost:8080/"
        },
        "id": "eifIR_KjxjEz",
        "outputId": "00c54597-46d1-4d68-a4da-d07e39afbdbb"
      },
      "source": [
        "url = \"https://comic.naver.com/webtoon/weekday\"\n",
        "res = requests.get(url)\n",
        "res.raise_for_status()\n",
        "\n",
        "soup = BeautifulSoup(res.text, \"lxml\")\n",
        "# print(soup.title)\n",
        "print(soup.title.get_text())\n",
        "print(\"=\" * 20)\n",
        "print(soup.a) # 처음 발견되는 'a' element에 대한 정보를 불러옴\n",
        "print(soup.a.attrs)\n",
        "print(\"=\" * 20)\n",
        "print(soup.a[\"href\"])"
      ],
      "execution_count": null,
      "outputs": [
        {
          "output_type": "stream",
          "text": [
            "네이버 만화 > 요일별  웹툰 > 전체웹툰\n",
            "====================\n",
            "<a href=\"#menu\" onclick=\"document.getElementById('menu').tabIndex=-1;document.getElementById('menu').focus();return false;\"><span>메인 메뉴로 바로가기</span></a>\n",
            "{'href': '#menu', 'onclick': \"document.getElementById('menu').tabIndex=-1;document.getElementById('menu').focus();return false;\"}\n",
            "====================\n",
            "#menu\n"
          ],
          "name": "stdout"
        }
      ]
    },
    {
      "cell_type": "markdown",
      "metadata": {
        "id": "odugtR5Enkt3"
      },
      "source": [
        "***6-1) Example_1 of copying rank***"
      ]
    },
    {
      "cell_type": "code",
      "metadata": {
        "colab": {
          "base_uri": "https://localhost:8080/"
        },
        "id": "Ky6XgqSbi9_V",
        "outputId": "4a690633-b54b-4ebd-9ef1-d813c67ede27"
      },
      "source": [
        "# 내가 주로 해오던 방법\n",
        "\n",
        "url = \"https://comic.naver.com/index\"\n",
        "res = requests.get(url)\n",
        "res.raise_for_status()\n",
        "\n",
        "soup = BeautifulSoup(res.text, \"lxml\")\n",
        "\n",
        "rk = sum([[f\"0{n}\" for n in range(1, 10)], ['10']], [])\n",
        "rk_upd = []\n",
        "for num in rk:\n",
        "    rk_upd.append(str(soup.find(\"li\", attrs={\"class\":f\"rank{num}\"}).a.get_text()))\n",
        "rk_upd"
      ],
      "execution_count": 28,
      "outputs": [
        {
          "output_type": "execute_result",
          "data": {
            "text/plain": [
              "['싸움독학-90화 : 유도와 싸워 이기는 법',\n",
              " '이번 생도 잘 부탁해-55화',\n",
              " '수희0(tngmlek0)-5화',\n",
              " '입학용병-39화',\n",
              " '투신전생기-6화',\n",
              " '약한영웅-150화',\n",
              " '곱게 키웠더니, 짐승-37화',\n",
              " '나만 보여!-31화',\n",
              " '열렙전사-2부 106화 - 현피 뜨자',\n",
              " '소녀재판-69화']"
            ]
          },
          "metadata": {
            "tags": []
          },
          "execution_count": 28
        }
      ]
    },
    {
      "cell_type": "markdown",
      "metadata": {
        "id": "617jrNdrlJYs"
      },
      "source": [
        "***6-2) Example_2 of copying rank***"
      ]
    },
    {
      "cell_type": "markdown",
      "metadata": {
        "id": "ggagK3CksnDW"
      },
      "source": [
        "---"
      ]
    },
    {
      "cell_type": "code",
      "metadata": {
        "colab": {
          "base_uri": "https://localhost:8080/"
        },
        "id": "8Z8GS36Bn9gY",
        "outputId": "257688eb-d9c1-4ec2-d274-4d3a36b76ad7"
      },
      "source": [
        "print(soup.find(\"li\", attrs={\"class\":f\"rank01\"}).a.get_text())\n",
        "print(soup.find(\"li\", attrs={\"class\":f\"rank01\"}).next_sibling.next_sibling.a.get_text())\n",
        "\n",
        "print(\"\")\n",
        "\n",
        "info_1 = soup.find(\"li\", attrs={\"class\":f\"rank01\"}).next_sibling.next_sibling\n",
        "# soup.find(\"li\", attrs={\"class\":f\"rank01\"}).find_next_sibling(\"li\")\n",
        "print(info_1.previous_sibling.previous_sibling.a.get_text())\n",
        "# soup.find(\"li\", attrs={\"class\":f\"rank01\"}).find_previous_sibling(\"li\")"
      ],
      "execution_count": 54,
      "outputs": [
        {
          "output_type": "stream",
          "text": [
            "싸움독학-90화 : 유도와 싸워 이기는 법\n",
            "이번 생도 잘 부탁해-55화\n",
            "\n",
            "싸움독학-90화 : 유도와 싸워 이기는 법\n"
          ],
          "name": "stdout"
        }
      ]
    },
    {
      "cell_type": "code",
      "metadata": {
        "id": "Wsoc1rhzp804"
      },
      "source": [
        "# info_1.parent"
      ],
      "execution_count": 56,
      "outputs": []
    },
    {
      "cell_type": "markdown",
      "metadata": {
        "id": "8Uwit9F-srDP"
      },
      "source": [
        "---"
      ]
    },
    {
      "cell_type": "code",
      "metadata": {
        "colab": {
          "base_uri": "https://localhost:8080/"
        },
        "id": "Lb6FB53cqdgM",
        "outputId": "107081d2-aae6-4a01-c662-e20713bde089"
      },
      "source": [
        "# 추천되어지고 있는 방법\n",
        "l1 = soup.find(\"li\", attrs={\"class\":f\"rank01\"}).a.get_text()\n",
        "sum([[str(l1)], [soup.find(\"li\", attrs={\"class\":f\"rank01\"}).find_next_siblings(\"li\")[i].a.get_text() for i in range(9)]], [])"
      ],
      "execution_count": 72,
      "outputs": [
        {
          "output_type": "execute_result",
          "data": {
            "text/plain": [
              "['싸움독학-90화 : 유도와 싸워 이기는 법',\n",
              " '이번 생도 잘 부탁해-55화',\n",
              " '수희0(tngmlek0)-5화',\n",
              " '입학용병-39화',\n",
              " '투신전생기-6화',\n",
              " '약한영웅-150화',\n",
              " '곱게 키웠더니, 짐승-37화',\n",
              " '나만 보여!-31화',\n",
              " '열렙전사-2부 106화 - 현피 뜨자',\n",
              " '소녀재판-69화']"
            ]
          },
          "metadata": {
            "tags": []
          },
          "execution_count": 72
        }
      ]
    },
    {
      "cell_type": "code",
      "metadata": {
        "colab": {
          "base_uri": "https://localhost:8080/"
        },
        "id": "JY799zfzsII_",
        "outputId": "08674a7b-58de-4915-9882-79c91521b112"
      },
      "source": [
        "# 역으로 값을 통해 특정 Tag를 찾는 방법\n",
        "soup.find(\"a\", text='이번 생도 잘 부탁해-55화')"
      ],
      "execution_count": 74,
      "outputs": [
        {
          "output_type": "execute_result",
          "data": {
            "text/plain": [
              "<a href=\"/webtoon/detail?titleId=746858&amp;no=55\" onclick=\"nclk_v2(event,'rnk*p.cont','746858','2')\" title=\"이번 생도 잘 부탁해-55화\">이번 생도 잘 부탁해-55화</a>"
            ]
          },
          "metadata": {
            "tags": []
          },
          "execution_count": 74
        }
      ]
    },
    {
      "cell_type": "code",
      "metadata": {
        "id": "Om8IGa3-tC9j"
      },
      "source": [
        ""
      ],
      "execution_count": null,
      "outputs": []
    }
  ]
}