{
 "cells": [
  {
   "cell_type": "code",
   "execution_count": 2,
   "id": "9b1ebb0a",
   "metadata": {},
   "outputs": [],
   "source": [
    "import numpy as np"
   ]
  },
  {
   "cell_type": "markdown",
   "id": "d78ddafc-ea02-4ae4-b387-5701523f6fa5",
   "metadata": {},
   "source": [
    "#### **배열생성**\n",
    "    * 리스트로 배열 만들기"
   ]
  },
  {
   "cell_type": "code",
   "execution_count": 3,
   "id": "4eb89246-be85-41b2-a4dc-bc7b591651f0",
   "metadata": {},
   "outputs": [
    {
     "name": "stdout",
     "output_type": "stream",
     "text": [
      "[1 2 3 4 5]\n",
      "<class 'numpy.ndarray'>\n",
      "(5,)\n",
      "1 2 3 4 5\n",
      "[4 5 6 4 5]\n"
     ]
    }
   ],
   "source": [
    "a1 = np.array([1,2,3,4,5])\n",
    "print(a1)\n",
    "print(type(a1)) \n",
    "print(a1.shape) # 5개의 원소 1차원 배열임을 확인\n",
    "print(a1[0],a1[1],a1[2],a1[3],a1[4])\n",
    "\n",
    "# 값 수정하기\n",
    "a1[0] = 4\n",
    "a1[1] = 5\n",
    "a1[2] = 6\n",
    "print(a1)"
   ]
  },
  {
   "cell_type": "markdown",
   "id": "a5e12175-c123-43b3-91cf-e62274fcfc05",
   "metadata": {},
   "source": [
    "<font color = \"blue\">***2차원형태 배열 생성***</font>"
   ]
  },
  {
   "cell_type": "code",
   "execution_count": 31,
   "id": "b95ffa01-9f82-4278-9353-88407402efbf",
   "metadata": {},
   "outputs": [
    {
     "name": "stdout",
     "output_type": "stream",
     "text": [
      "[[1 2 3]\n",
      " [4 5 6]\n",
      " [7 8 9]]\n",
      "=================================\n",
      "생성된 이차원 어레이의 구조 (3, 3)\n",
      "이차원 어레이에 접근 예시 _ : array_2D[0, 0], array_2D[1][0], array_2D[2, 2] =  1 4 9\n"
     ]
    }
   ],
   "source": [
    "array_2D = np.array([ [1,2,3], [4,5,6], [7,8,9] ])\n",
    "print(array_2D)\n",
    "\n",
    "print(\"=\" * 33)\n",
    "\n",
    "print(\"생성된 이차원 어레이의 구조\", array_2D.shape)\n",
    "print(\"이차원 어레이에 접근 예시 _ : array_2D[0, 0], array_2D[1][0], array_2D[2, 2] = \", array_2D[0, 0], array_2D[1][0], array_2D[2, 2])"
   ]
  },
  {
   "cell_type": "markdown",
   "id": "8ff68f72-0736-42d8-9643-acd0dcdb2d68",
   "metadata": {},
   "source": [
    "---"
   ]
  },
  {
   "cell_type": "markdown",
   "id": "2298d225-0b39-42e2-b147-aef463a4f652",
   "metadata": {},
   "source": [
    "<font color = \"blue\"> ***3차원 어레이 개념과 생성생성***</font>"
   ]
  },
  {
   "cell_type": "markdown",
   "id": "22333f93-46b5-40ae-9b65-df449300f687",
   "metadata": {},
   "source": [
    "<img src=\"https://kr.mathworks.com/help/matlab/math/nddemo_02_ko_KR.gif\" alt=\"image info\" />"
   ]
  },
  {
   "cell_type": "code",
   "execution_count": 32,
   "id": "89cfdce7-bc43-434a-bc6b-3cb612afdd0b",
   "metadata": {},
   "outputs": [
    {
     "name": "stdout",
     "output_type": "stream",
     "text": [
      "[[[1 2 3]\n",
      "  [4 5 6]\n",
      "  [7 8 9]]\n",
      "\n",
      " [[1 2 3]\n",
      "  [4 5 6]\n",
      "  [7 8 9]]\n",
      "\n",
      " [[1 2 3]\n",
      "  [4 5 6]\n",
      "  [7 8 9]]]\n"
     ]
    }
   ],
   "source": [
    "# 이차원형태 배열 생성\n",
    "array_3D = np.array([[ [1,2,3], [4,5,6], [7,8,9] ],\n",
    "                   [ [1,2,3], [4,5,6], [7,8,9] ],\n",
    "                   [ [1,2,3], [4,5,6], [7,8,9] ]])\n",
    "print(array_3D)"
   ]
  },
  {
   "cell_type": "code",
   "execution_count": 33,
   "id": "6389ba52-9c4e-4c88-b1b0-1c09f76be569",
   "metadata": {},
   "outputs": [
    {
     "name": "stdout",
     "output_type": "stream",
     "text": [
      "(3, 3, 3)\n"
     ]
    }
   ],
   "source": [
    "print(array_3D.shape)"
   ]
  },
  {
   "cell_type": "markdown",
   "id": "7dacd56a-589c-4d14-81b2-cfe841175c00",
   "metadata": {},
   "source": [
    "<font color = \"blue\">***배열 생성과 초기화***</font>"
   ]
  },
  {
   "cell_type": "code",
   "execution_count": null,
   "id": "04067163-24ef-48a5-b1d7-ca6fa4b0df8b",
   "metadata": {},
   "outputs": [],
   "source": []
  }
 ],
 "metadata": {
  "kernelspec": {
   "display_name": "Python 3",
   "language": "python",
   "name": "python3"
  },
  "language_info": {
   "codemirror_mode": {
    "name": "ipython",
    "version": 3
   },
   "file_extension": ".py",
   "mimetype": "text/x-python",
   "name": "python",
   "nbconvert_exporter": "python",
   "pygments_lexer": "ipython3",
   "version": "3.7.10"
  }
 },
 "nbformat": 4,
 "nbformat_minor": 5
}
