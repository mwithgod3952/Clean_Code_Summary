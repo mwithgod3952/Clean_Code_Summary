{
 "cells": [
  {
   "cell_type": "code",
   "execution_count": 2,
   "id": "9b1ebb0a",
   "metadata": {},
   "outputs": [],
   "source": [
    "import numpy as np"
   ]
  },
  {
   "cell_type": "markdown",
   "id": "d78ddafc-ea02-4ae4-b387-5701523f6fa5",
   "metadata": {},
   "source": [
    "#### **배열생성**\n",
    "    * 리스트로 배열 만들기"
   ]
  },
  {
   "cell_type": "code",
   "execution_count": 8,
   "id": "4eb89246-be85-41b2-a4dc-bc7b591651f0",
   "metadata": {},
   "outputs": [
    {
     "name": "stdout",
     "output_type": "stream",
     "text": [
      "[1 2 3 4 5]\n",
      "<class 'numpy.ndarray'>\n",
      "(5,)\n",
      "1 2 3 4 5\n",
      "[4 5 6 4 5]\n"
     ]
    }
   ],
   "source": [
    "a1 = np.array([1,2,3,4,5])\n",
    "print(a1)\n",
    "print(type(a1)) \n",
    "print(a1.shape) # 5개의 원소 1차원 배열임을 확인\n",
    "print(a1[0],a1[1],a1[2],a1[3],a1[4])\n",
    "\n",
    "# 값 수정하기\n",
    "a1[0] = 4\n",
    "a1[1] = 5\n",
    "a1[2] = 6\n",
    "print(a1)"
   ]
  },
  {
   "cell_type": "code",
   "execution_count": 9,
   "id": "b95ffa01-9f82-4278-9353-88407402efbf",
   "metadata": {},
   "outputs": [],
   "source": [
    "# 이차원형태 배열 생성\n"
   ]
  }
 ],
 "metadata": {
  "kernelspec": {
   "display_name": "Python 3",
   "language": "python",
   "name": "python3"
  },
  "language_info": {
   "codemirror_mode": {
    "name": "ipython",
    "version": 3
   },
   "file_extension": ".py",
   "mimetype": "text/x-python",
   "name": "python",
   "nbconvert_exporter": "python",
   "pygments_lexer": "ipython3",
   "version": "3.7.10"
  }
 },
 "nbformat": 4,
 "nbformat_minor": 5
}
