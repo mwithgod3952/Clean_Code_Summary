{
 "cells": [
  {
   "cell_type": "code",
   "execution_count": 1,
   "id": "9b1ebb0a",
   "metadata": {},
   "outputs": [],
   "source": [
    "import numpy as np"
   ]
  },
  {
   "cell_type": "markdown",
   "id": "d78ddafc-ea02-4ae4-b387-5701523f6fa5",
   "metadata": {},
   "source": [
    "#### **배열생성**\n",
    "    * 리스트로 배열 만들기"
   ]
  },
  {
   "cell_type": "code",
   "execution_count": 2,
   "id": "4eb89246-be85-41b2-a4dc-bc7b591651f0",
   "metadata": {},
   "outputs": [
    {
     "name": "stdout",
     "output_type": "stream",
     "text": [
      "[1 2 3 4 5]\n",
      "<class 'numpy.ndarray'>\n",
      "(5,)\n",
      "1 2 3 4 5\n",
      "[4 5 6 4 5]\n"
     ]
    }
   ],
   "source": [
    "a1 = np.array([1,2,3,4,5])\n",
    "print(a1)\n",
    "print(type(a1)) \n",
    "print(a1.shape) # 5개의 원소 1차원 배열임을 확인\n",
    "print(a1[0],a1[1],a1[2],a1[3],a1[4])\n",
    "\n",
    "# 값 수정하기\n",
    "a1[0] = 4\n",
    "a1[1] = 5\n",
    "a1[2] = 6\n",
    "print(a1)"
   ]
  },
  {
   "cell_type": "markdown",
   "id": "a5e12175-c123-43b3-91cf-e62274fcfc05",
   "metadata": {},
   "source": [
    "<font color = \"blue\">***2차원형태 배열 생성***</font>"
   ]
  },
  {
   "cell_type": "code",
   "execution_count": 3,
   "id": "b95ffa01-9f82-4278-9353-88407402efbf",
   "metadata": {},
   "outputs": [
    {
     "name": "stdout",
     "output_type": "stream",
     "text": [
      "[[1 2 3]\n",
      " [4 5 6]\n",
      " [7 8 9]]\n",
      "=================================\n",
      "생성된 이차원 어레이의 구조 (3, 3)\n",
      "이차원 어레이에 접근 예시 _ : array_2D[0, 0], array_2D[1][0], array_2D[2, 2] =  1 4 9\n"
     ]
    }
   ],
   "source": [
    "array_2D = np.array([ [1,2,3], [4,5,6], [7,8,9] ])\n",
    "print(array_2D)\n",
    "\n",
    "print(\"=\" * 33)\n",
    "\n",
    "print(\"생성된 이차원 어레이의 구조\", array_2D.shape)\n",
    "print(\"이차원 어레이에 접근 예시 _ : array_2D[0, 0], array_2D[1][0], array_2D[2, 2] = \", array_2D[0, 0], array_2D[1][0], array_2D[2, 2])"
   ]
  },
  {
   "cell_type": "markdown",
   "id": "8ff68f72-0736-42d8-9643-acd0dcdb2d68",
   "metadata": {},
   "source": [
    "---"
   ]
  },
  {
   "cell_type": "markdown",
   "id": "2298d225-0b39-42e2-b147-aef463a4f652",
   "metadata": {},
   "source": [
    "<font color = \"blue\"> ***3차원 어레이 개념과 생성생성***</font>"
   ]
  },
  {
   "cell_type": "markdown",
   "id": "22333f93-46b5-40ae-9b65-df449300f687",
   "metadata": {},
   "source": [
    "<img src=\"https://kr.mathworks.com/help/matlab/math/nddemo_02_ko_KR.gif\" alt=\"image info\" />"
   ]
  },
  {
   "cell_type": "code",
   "execution_count": 4,
   "id": "89cfdce7-bc43-434a-bc6b-3cb612afdd0b",
   "metadata": {},
   "outputs": [
    {
     "name": "stdout",
     "output_type": "stream",
     "text": [
      "[[[1 2 3]\n",
      "  [4 5 6]\n",
      "  [7 8 9]]\n",
      "\n",
      " [[1 2 3]\n",
      "  [4 5 6]\n",
      "  [7 8 9]]\n",
      "\n",
      " [[1 2 3]\n",
      "  [4 5 6]\n",
      "  [7 8 9]]]\n"
     ]
    }
   ],
   "source": [
    "# 이차원형태 배열 생성\n",
    "array_3D = np.array([[ [1,2,3], [4,5,6], [7,8,9] ],\n",
    "                   [ [1,2,3], [4,5,6], [7,8,9] ],\n",
    "                   [ [1,2,3], [4,5,6], [7,8,9] ]])\n",
    "print(array_3D)"
   ]
  },
  {
   "cell_type": "code",
   "execution_count": 5,
   "id": "6389ba52-9c4e-4c88-b1b0-1c09f76be569",
   "metadata": {},
   "outputs": [
    {
     "name": "stdout",
     "output_type": "stream",
     "text": [
      "(3, 3, 3)\n"
     ]
    }
   ],
   "source": [
    "print(array_3D.shape)"
   ]
  },
  {
   "cell_type": "markdown",
   "id": "7dacd56a-589c-4d14-81b2-cfe841175c00",
   "metadata": {},
   "source": [
    "<font color = \"blue\">***배열 생성과 초기화***</font>"
   ]
  },
  {
   "cell_type": "code",
   "execution_count": 6,
   "id": "17c74e7a-7133-4a1c-a4ee-64ec78ffd38b",
   "metadata": {},
   "outputs": [
    {
     "data": {
      "text/plain": [
       "array([0., 0., 0., 0., 0., 0., 0., 0., 0., 0.])"
      ]
     },
     "execution_count": 6,
     "metadata": {},
     "output_type": "execute_result"
    }
   ],
   "source": [
    "np.zeros(10)"
   ]
  },
  {
   "cell_type": "code",
   "execution_count": 7,
   "id": "d9e41bfb-9af5-407e-9b77-d1fead887550",
   "metadata": {},
   "outputs": [
    {
     "data": {
      "text/plain": [
       "array([[1., 1., 1.],\n",
       "       [1., 1., 1.],\n",
       "       [1., 1., 1.]])"
      ]
     },
     "execution_count": 7,
     "metadata": {},
     "output_type": "execute_result"
    }
   ],
   "source": [
    "np.ones((3,3))"
   ]
  },
  {
   "cell_type": "code",
   "execution_count": 8,
   "id": "57127934-30de-423b-8fc0-7d7bb9b936a2",
   "metadata": {},
   "outputs": [
    {
     "data": {
      "text/plain": [
       "array([[1.23, 1.23, 1.23],\n",
       "       [1.23, 1.23, 1.23],\n",
       "       [1.23, 1.23, 1.23]])"
      ]
     },
     "execution_count": 8,
     "metadata": {},
     "output_type": "execute_result"
    }
   ],
   "source": [
    "np.full((3,3), 1.23)"
   ]
  },
  {
   "cell_type": "code",
   "execution_count": 9,
   "id": "d2a20504-dcfa-4c63-be2a-de29492ec888",
   "metadata": {},
   "outputs": [
    {
     "data": {
      "text/plain": [
       "array([[1., 0., 0.],\n",
       "       [0., 1., 0.],\n",
       "       [0., 0., 1.]])"
      ]
     },
     "execution_count": 9,
     "metadata": {},
     "output_type": "execute_result"
    }
   ],
   "source": [
    "# 단위행렬 지정\n",
    "# : 정사각행렬\n",
    "np.eye(3)"
   ]
  },
  {
   "cell_type": "code",
   "execution_count": 10,
   "id": "d3b6d639-5bf1-42ca-beeb-cae3f3d479a0",
   "metadata": {},
   "outputs": [
    {
     "data": {
      "text/plain": [
       "array([[1., 0., 0.],\n",
       "       [1., 1., 0.],\n",
       "       [1., 1., 1.]])"
      ]
     },
     "execution_count": 10,
     "metadata": {},
     "output_type": "execute_result"
    }
   ],
   "source": [
    "# 삼각행렬 생성\n",
    "np.tri(3)"
   ]
  },
  {
   "cell_type": "markdown",
   "id": "36b7b305-3df6-4b9b-a586-3692681a6df7",
   "metadata": {},
   "source": [
    "***empty()***\n",
    "\n",
    "    - 초기화가 없어서 배열 생성비용이 저렴하고 빠르다.\n",
    "    - 단, 초기화되지 않아 기존 메모리 위치에 존재하는 값이 자동으로 설정됨을 주의"
   ]
  },
  {
   "cell_type": "code",
   "execution_count": 11,
   "id": "77e5321b-5fcf-47d8-80fa-ae3fffe51c74",
   "metadata": {},
   "outputs": [
    {
     "data": {
      "text/plain": [
       "array([0., 0., 0., 0., 0., 0., 0., 0., 0., 0.])"
      ]
     },
     "execution_count": 11,
     "metadata": {},
     "output_type": "execute_result"
    }
   ],
   "source": [
    "np.empty(10)"
   ]
  },
  {
   "cell_type": "markdown",
   "id": "144453bc-d796-4ecd-a87a-fab56c3a5831",
   "metadata": {},
   "source": [
    "***_like() : : 지정한 배열과 같은 shape의 행렬 생성***\n",
    "\n",
    "    - np.zeros_like()\n",
    "    - np.ones_like()\n",
    "    - np.full_like()\n",
    "    - np.empty_like()    "
   ]
  },
  {
   "cell_type": "code",
   "execution_count": 20,
   "id": "8e701ebb-add5-427a-8480-57fb60c51d30",
   "metadata": {},
   "outputs": [
    {
     "name": "stdout",
     "output_type": "stream",
     "text": [
      "[[[1 2 3]\n",
      "  [4 5 6]\n",
      "  [7 8 9]]\n",
      "\n",
      " [[1 2 3]\n",
      "  [4 5 6]\n",
      "  [7 8 9]]\n",
      "\n",
      " [[1 2 3]\n",
      "  [4 5 6]\n",
      "  [7 8 9]]]\n",
      "========== copied with np.zeros\n",
      "[[[0 0 0]\n",
      "  [0 0 0]\n",
      "  [0 0 0]]\n",
      "\n",
      " [[0 0 0]\n",
      "  [0 0 0]\n",
      "  [0 0 0]]\n",
      "\n",
      " [[0 0 0]\n",
      "  [0 0 0]\n",
      "  [0 0 0]]]\n",
      "========== copied with np.ones\n",
      "[[[1 1 1]\n",
      "  [1 1 1]\n",
      "  [1 1 1]]\n",
      "\n",
      " [[1 1 1]\n",
      "  [1 1 1]\n",
      "  [1 1 1]]\n",
      "\n",
      " [[1 1 1]\n",
      "  [1 1 1]\n",
      "  [1 1 1]]]\n",
      "========== copied with np.full\n",
      "[[[3 3 3]\n",
      "  [3 3 3]\n",
      "  [3 3 3]]\n",
      "\n",
      " [[3 3 3]\n",
      "  [3 3 3]\n",
      "  [3 3 3]]\n",
      "\n",
      " [[3 3 3]\n",
      "  [3 3 3]\n",
      "  [3 3 3]]]\n",
      "========== copied with np.empty\n",
      "[[[3 3 3]\n",
      "  [3 3 3]\n",
      "  [3 3 3]]\n",
      "\n",
      " [[3 3 3]\n",
      "  [3 3 3]\n",
      "  [3 3 3]]\n",
      "\n",
      " [[3 3 3]\n",
      "  [3 3 3]\n",
      "  [3 3 3]]]\n"
     ]
    }
   ],
   "source": [
    "print(array_3D)\n",
    "\n",
    "# 0를 통해 수 채움\n",
    "print(\"=\"*10, \"copied with np.zeros\")\n",
    "print(np.zeros_like(array_3D))\n",
    "\n",
    "# 1를 통해 수 채움\n",
    "print(\"=\"*10, \"copied with np.ones\")\n",
    "print(np.ones_like(array_3D))\n",
    "\n",
    "# 지정 값을 통해 수 채움\n",
    "print(\"=\"*10, \"copied with np.full\")\n",
    "print(np.full_like(array_3D, fill_value = 3.14))\n",
    "\n",
    "# 지정 값 없이 값 채움 : \n",
    "# 특징_1 기존에 메모리에 저장되어 있던 값을 임의로 활용\n",
    "# 특징_2 메모리 할당이 적음으로 가성비가 높음\n",
    "\n",
    "print(\"=\"*10, \"copied with np.empty\")\n",
    "print(np.empty_like(array_3D))"
   ]
  },
  {
   "cell_type": "code",
   "execution_count": null,
   "id": "eb4a848f-134d-4871-85f1-a7a63eeba085",
   "metadata": {},
   "outputs": [],
   "source": []
  }
 ],
 "metadata": {
  "kernelspec": {
   "display_name": "Python 3",
   "language": "python",
   "name": "python3"
  },
  "language_info": {
   "codemirror_mode": {
    "name": "ipython",
    "version": 3
   },
   "file_extension": ".py",
   "mimetype": "text/x-python",
   "name": "python",
   "nbconvert_exporter": "python",
   "pygments_lexer": "ipython3",
   "version": "3.7.10"
  }
 },
 "nbformat": 4,
 "nbformat_minor": 5
}
