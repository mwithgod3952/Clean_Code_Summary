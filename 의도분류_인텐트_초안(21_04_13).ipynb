{
  "nbformat": 4,
  "nbformat_minor": 0,
  "metadata": {
    "colab": {
      "name": "의도분류_인텐트_초안(21.04.13)",
      "provenance": [],
      "collapsed_sections": [],
      "authorship_tag": "ABX9TyMTKkfAWxqTyR1t3fLB56PO",
      "include_colab_link": true
    },
    "kernelspec": {
      "name": "python3",
      "display_name": "Python 3"
    },
    "language_info": {
      "name": "python"
    },
    "accelerator": "GPU"
  },
  "cells": [
    {
      "cell_type": "markdown",
      "metadata": {
        "id": "view-in-github",
        "colab_type": "text"
      },
      "source": [
        "<a href=\"https://colab.research.google.com/github/mwithgod3952/Clean_Code_Summary/blob/main/%EC%9D%98%EB%8F%84%EB%B6%84%EB%A5%98_%EC%9D%B8%ED%85%90%ED%8A%B8_%EC%B4%88%EC%95%88(21_04_13).ipynb\" target=\"_parent\"><img src=\"https://colab.research.google.com/assets/colab-badge.svg\" alt=\"Open In Colab\"/></a>"
      ]
    },
    {
      "cell_type": "code",
      "metadata": {
        "colab": {
          "base_uri": "https://localhost:8080/"
        },
        "id": "anpTiF_0JsT3",
        "outputId": "d1f98775-32de-4aa0-b6f2-5303c76d98ac"
      },
      "source": [
        "!wget --no-check-certificate 'https://docs.google.com/uc?export=download&id=1Wl10TgCuHJDls0uQ1DGYQ-bOflDFN5gh' -O train_intent.csv"
      ],
      "execution_count": 1,
      "outputs": [
        {
          "output_type": "stream",
          "text": [
            "--2021-04-13 10:51:13--  https://docs.google.com/uc?export=download&id=1Wl10TgCuHJDls0uQ1DGYQ-bOflDFN5gh\n",
            "Resolving docs.google.com (docs.google.com)... 64.233.189.113, 64.233.189.139, 64.233.189.100, ...\n",
            "Connecting to docs.google.com (docs.google.com)|64.233.189.113|:443... connected.\n",
            "HTTP request sent, awaiting response... 302 Moved Temporarily\n",
            "Location: https://doc-14-7k-docs.googleusercontent.com/docs/securesc/ha0ro937gcuc7l7deffksulhg5h7mbp1/t18asjqulj72bfrfshl9fl6onv716obr/1618311000000/17609157229046208934/*/1Wl10TgCuHJDls0uQ1DGYQ-bOflDFN5gh?e=download [following]\n",
            "Warning: wildcards not supported in HTTP.\n",
            "--2021-04-13 10:51:13--  https://doc-14-7k-docs.googleusercontent.com/docs/securesc/ha0ro937gcuc7l7deffksulhg5h7mbp1/t18asjqulj72bfrfshl9fl6onv716obr/1618311000000/17609157229046208934/*/1Wl10TgCuHJDls0uQ1DGYQ-bOflDFN5gh?e=download\n",
            "Resolving doc-14-7k-docs.googleusercontent.com (doc-14-7k-docs.googleusercontent.com)... 64.233.189.132, 2404:6800:4008:c07::84\n",
            "Connecting to doc-14-7k-docs.googleusercontent.com (doc-14-7k-docs.googleusercontent.com)|64.233.189.132|:443... connected.\n",
            "HTTP request sent, awaiting response... 200 OK\n",
            "Length: 142201 (139K) [text/csv]\n",
            "Saving to: ‘train_intent.csv’\n",
            "\n",
            "train_intent.csv    100%[===================>] 138.87K  --.-KB/s    in 0.001s  \n",
            "\n",
            "2021-04-13 10:51:14 (94.3 MB/s) - ‘train_intent.csv’ saved [142201/142201]\n",
            "\n"
          ],
          "name": "stdout"
        }
      ]
    },
    {
      "cell_type": "code",
      "metadata": {
        "colab": {
          "base_uri": "https://localhost:8080/"
        },
        "id": "Lu2_8bk-J8Wp",
        "outputId": "8741172f-2f61-4f8e-9791-a476243561c5"
      },
      "source": [
        "!pip install konlpy"
      ],
      "execution_count": 2,
      "outputs": [
        {
          "output_type": "stream",
          "text": [
            "Collecting konlpy\n",
            "\u001b[?25l  Downloading https://files.pythonhosted.org/packages/85/0e/f385566fec837c0b83f216b2da65db9997b35dd675e107752005b7d392b1/konlpy-0.5.2-py2.py3-none-any.whl (19.4MB)\n",
            "\u001b[K     |████████████████████████████████| 19.4MB 13.3MB/s \n",
            "\u001b[?25hCollecting colorama\n",
            "  Downloading https://files.pythonhosted.org/packages/44/98/5b86278fbbf250d239ae0ecb724f8572af1c91f4a11edf4d36a206189440/colorama-0.4.4-py2.py3-none-any.whl\n",
            "Requirement already satisfied: numpy>=1.6 in /usr/local/lib/python3.7/dist-packages (from konlpy) (1.19.5)\n",
            "Requirement already satisfied: lxml>=4.1.0 in /usr/local/lib/python3.7/dist-packages (from konlpy) (4.2.6)\n",
            "Collecting JPype1>=0.7.0\n",
            "\u001b[?25l  Downloading https://files.pythonhosted.org/packages/cd/a5/9781e2ef4ca92d09912c4794642c1653aea7607f473e156cf4d423a881a1/JPype1-1.2.1-cp37-cp37m-manylinux2010_x86_64.whl (457kB)\n",
            "\u001b[K     |████████████████████████████████| 460kB 41.3MB/s \n",
            "\u001b[?25hCollecting beautifulsoup4==4.6.0\n",
            "\u001b[?25l  Downloading https://files.pythonhosted.org/packages/9e/d4/10f46e5cfac773e22707237bfcd51bbffeaf0a576b0a847ec7ab15bd7ace/beautifulsoup4-4.6.0-py3-none-any.whl (86kB)\n",
            "\u001b[K     |████████████████████████████████| 92kB 10.3MB/s \n",
            "\u001b[?25hRequirement already satisfied: tweepy>=3.7.0 in /usr/local/lib/python3.7/dist-packages (from konlpy) (3.10.0)\n",
            "Requirement already satisfied: typing-extensions; python_version < \"3.8\" in /usr/local/lib/python3.7/dist-packages (from JPype1>=0.7.0->konlpy) (3.7.4.3)\n",
            "Requirement already satisfied: requests-oauthlib>=0.7.0 in /usr/local/lib/python3.7/dist-packages (from tweepy>=3.7.0->konlpy) (1.3.0)\n",
            "Requirement already satisfied: six>=1.10.0 in /usr/local/lib/python3.7/dist-packages (from tweepy>=3.7.0->konlpy) (1.15.0)\n",
            "Requirement already satisfied: requests[socks]>=2.11.1 in /usr/local/lib/python3.7/dist-packages (from tweepy>=3.7.0->konlpy) (2.23.0)\n",
            "Requirement already satisfied: oauthlib>=3.0.0 in /usr/local/lib/python3.7/dist-packages (from requests-oauthlib>=0.7.0->tweepy>=3.7.0->konlpy) (3.1.0)\n",
            "Requirement already satisfied: urllib3!=1.25.0,!=1.25.1,<1.26,>=1.21.1 in /usr/local/lib/python3.7/dist-packages (from requests[socks]>=2.11.1->tweepy>=3.7.0->konlpy) (1.24.3)\n",
            "Requirement already satisfied: certifi>=2017.4.17 in /usr/local/lib/python3.7/dist-packages (from requests[socks]>=2.11.1->tweepy>=3.7.0->konlpy) (2020.12.5)\n",
            "Requirement already satisfied: chardet<4,>=3.0.2 in /usr/local/lib/python3.7/dist-packages (from requests[socks]>=2.11.1->tweepy>=3.7.0->konlpy) (3.0.4)\n",
            "Requirement already satisfied: idna<3,>=2.5 in /usr/local/lib/python3.7/dist-packages (from requests[socks]>=2.11.1->tweepy>=3.7.0->konlpy) (2.10)\n",
            "Requirement already satisfied: PySocks!=1.5.7,>=1.5.6; extra == \"socks\" in /usr/local/lib/python3.7/dist-packages (from requests[socks]>=2.11.1->tweepy>=3.7.0->konlpy) (1.7.1)\n",
            "Installing collected packages: colorama, JPype1, beautifulsoup4, konlpy\n",
            "  Found existing installation: beautifulsoup4 4.6.3\n",
            "    Uninstalling beautifulsoup4-4.6.3:\n",
            "      Successfully uninstalled beautifulsoup4-4.6.3\n",
            "Successfully installed JPype1-1.2.1 beautifulsoup4-4.6.0 colorama-0.4.4 konlpy-0.5.2\n"
          ],
          "name": "stdout"
        }
      ]
    },
    {
      "cell_type": "code",
      "metadata": {
        "colab": {
          "base_uri": "https://localhost:8080/"
        },
        "id": "sE5wf1-7KCBj",
        "outputId": "087dc256-3ba0-4a39-eea3-9f9ca7e0b3a1"
      },
      "source": [
        "import matplotlib.pyplot as plt\n",
        "import matplotlib as mpl\n",
        "import matplotlib.font_manager as fm\n",
        "\n",
        "%config InlineBackend.figure_format = 'retina'\n",
        "\n",
        "!apt -qq -y install fonts-nanum\n",
        "\n",
        "fontpath = '/usr/share/fonts/truetype/nanum/NanumBarunGothic.ttf'\n",
        "font = fm.FontProperties(fname=fontpath, size=9)\n",
        "plt.rc('font', family='NanumBarunGothic') \n",
        "mpl.font_manager._rebuild()"
      ],
      "execution_count": 3,
      "outputs": [
        {
          "output_type": "stream",
          "text": [
            "The following NEW packages will be installed:\n",
            "  fonts-nanum\n",
            "0 upgraded, 1 newly installed, 0 to remove and 31 not upgraded.\n",
            "Need to get 9,604 kB of archives.\n",
            "After this operation, 29.5 MB of additional disk space will be used.\n",
            "Selecting previously unselected package fonts-nanum.\n",
            "(Reading database ... 160983 files and directories currently installed.)\n",
            "Preparing to unpack .../fonts-nanum_20170925-1_all.deb ...\n",
            "Unpacking fonts-nanum (20170925-1) ...\n",
            "Setting up fonts-nanum (20170925-1) ...\n",
            "Processing triggers for fontconfig (2.12.6-0ubuntu2) ...\n"
          ],
          "name": "stdout"
        }
      ]
    },
    {
      "cell_type": "code",
      "metadata": {
        "id": "u-eiy08AKK2z"
      },
      "source": [
        "import pandas as pd\n",
        "import numpy as np\n",
        "from konlpy.tag import Okt\n",
        "from tensorflow.keras.preprocessing.text import Tokenizer\n",
        "from tensorflow.keras.preprocessing.sequence import pad_sequences\n",
        "from sklearn import preprocessing"
      ],
      "execution_count": 4,
      "outputs": []
    },
    {
      "cell_type": "code",
      "metadata": {
        "colab": {
          "base_uri": "https://localhost:8080/",
          "height": 669
        },
        "id": "rAT0epkdLPmz",
        "outputId": "27c901b9-b8c3-4821-c2d8-dbd3fdda028e"
      },
      "source": [
        "df = pd.read_csv('train_intent.csv')\n",
        "df.sample(20)"
      ],
      "execution_count": 5,
      "outputs": [
        {
          "output_type": "execute_result",
          "data": {
            "text/html": [
              "<div>\n",
              "<style scoped>\n",
              "    .dataframe tbody tr th:only-of-type {\n",
              "        vertical-align: middle;\n",
              "    }\n",
              "\n",
              "    .dataframe tbody tr th {\n",
              "        vertical-align: top;\n",
              "    }\n",
              "\n",
              "    .dataframe thead th {\n",
              "        text-align: right;\n",
              "    }\n",
              "</style>\n",
              "<table border=\"1\" class=\"dataframe\">\n",
              "  <thead>\n",
              "    <tr style=\"text-align: right;\">\n",
              "      <th></th>\n",
              "      <th>question</th>\n",
              "      <th>intent</th>\n",
              "    </tr>\n",
              "  </thead>\n",
              "  <tbody>\n",
              "    <tr>\n",
              "      <th>231</th>\n",
              "      <td>이번 주 광명 날씨 알려줘</td>\n",
              "      <td>날씨</td>\n",
              "    </tr>\n",
              "    <tr>\n",
              "      <th>2563</th>\n",
              "      <td>궁금해요</td>\n",
              "      <td>위키</td>\n",
              "    </tr>\n",
              "    <tr>\n",
              "      <th>164</th>\n",
              "      <td>4월 12일 날씨 맑은가요</td>\n",
              "      <td>날씨</td>\n",
              "    </tr>\n",
              "    <tr>\n",
              "      <th>1175</th>\n",
              "      <td>송파구 술집 알려주세요</td>\n",
              "      <td>맛집</td>\n",
              "    </tr>\n",
              "    <tr>\n",
              "      <th>3516</th>\n",
              "      <td>이슈 알려주라요</td>\n",
              "      <td>이슈</td>\n",
              "    </tr>\n",
              "    <tr>\n",
              "      <th>1063</th>\n",
              "      <td>익산 맛집 추천해 주겠니</td>\n",
              "      <td>맛집</td>\n",
              "    </tr>\n",
              "    <tr>\n",
              "      <th>2818</th>\n",
              "      <td>군 뭔지 알려주라</td>\n",
              "      <td>위키</td>\n",
              "    </tr>\n",
              "    <tr>\n",
              "      <th>1185</th>\n",
              "      <td>주변 음식점 추천해줘</td>\n",
              "      <td>맛집</td>\n",
              "    </tr>\n",
              "    <tr>\n",
              "      <th>1023</th>\n",
              "      <td>어떤 거 먹을까요</td>\n",
              "      <td>맛집</td>\n",
              "    </tr>\n",
              "    <tr>\n",
              "      <th>1014</th>\n",
              "      <td>오늘 뭐 먹을까</td>\n",
              "      <td>맛집</td>\n",
              "    </tr>\n",
              "    <tr>\n",
              "      <th>449</th>\n",
              "      <td>이건희 나온 뉴스 알려줘</td>\n",
              "      <td>뉴스</td>\n",
              "    </tr>\n",
              "    <tr>\n",
              "      <th>2179</th>\n",
              "      <td>치킨 스페인어 번역해주라</td>\n",
              "      <td>번역</td>\n",
              "    </tr>\n",
              "    <tr>\n",
              "      <th>3054</th>\n",
              "      <td>노래 들려줘</td>\n",
              "      <td>음악</td>\n",
              "    </tr>\n",
              "    <tr>\n",
              "      <th>635</th>\n",
              "      <td>최근 뉴스 전해줘요</td>\n",
              "      <td>뉴스</td>\n",
              "    </tr>\n",
              "    <tr>\n",
              "      <th>3730</th>\n",
              "      <td>김태우 누구죠</td>\n",
              "      <td>인물</td>\n",
              "    </tr>\n",
              "    <tr>\n",
              "      <th>717</th>\n",
              "      <td>오늘 날짜는</td>\n",
              "      <td>달력</td>\n",
              "    </tr>\n",
              "    <tr>\n",
              "      <th>781</th>\n",
              "      <td>날짜요</td>\n",
              "      <td>달력</td>\n",
              "    </tr>\n",
              "    <tr>\n",
              "      <th>1329</th>\n",
              "      <td>오늘 하늘 어떤지 알려주라</td>\n",
              "      <td>먼지</td>\n",
              "    </tr>\n",
              "    <tr>\n",
              "      <th>3226</th>\n",
              "      <td>애프터스쿨 노래 알아요</td>\n",
              "      <td>음악</td>\n",
              "    </tr>\n",
              "    <tr>\n",
              "      <th>1558</th>\n",
              "      <td>이번 주 공기 상태 알려줄래요</td>\n",
              "      <td>먼지</td>\n",
              "    </tr>\n",
              "  </tbody>\n",
              "</table>\n",
              "</div>"
            ],
            "text/plain": [
              "              question intent\n",
              "231     이번 주 광명 날씨 알려줘     날씨\n",
              "2563              궁금해요     위키\n",
              "164     4월 12일 날씨 맑은가요     날씨\n",
              "1175      송파구 술집 알려주세요     맛집\n",
              "3516          이슈 알려주라요     이슈\n",
              "1063     익산 맛집 추천해 주겠니     맛집\n",
              "2818         군 뭔지 알려주라     위키\n",
              "1185       주변 음식점 추천해줘     맛집\n",
              "1023         어떤 거 먹을까요     맛집\n",
              "1014          오늘 뭐 먹을까     맛집\n",
              "449      이건희 나온 뉴스 알려줘     뉴스\n",
              "2179     치킨 스페인어 번역해주라     번역\n",
              "3054            노래 들려줘     음악\n",
              "635         최근 뉴스 전해줘요     뉴스\n",
              "3730           김태우 누구죠     인물\n",
              "717             오늘 날짜는     달력\n",
              "781                날짜요     달력\n",
              "1329    오늘 하늘 어떤지 알려주라     먼지\n",
              "3226      애프터스쿨 노래 알아요     음악\n",
              "1558  이번 주 공기 상태 알려줄래요     먼지"
            ]
          },
          "metadata": {
            "tags": []
          },
          "execution_count": 5
        }
      ]
    },
    {
      "cell_type": "code",
      "metadata": {
        "colab": {
          "base_uri": "https://localhost:8080/",
          "height": 1000
        },
        "id": "0nGS823dLcp6",
        "outputId": "5ff45c99-c8a8-47a4-fb63-a4f587d7aaf2"
      },
      "source": [
        "df['intent'].value_counts().plot(kind = 'bar')"
      ],
      "execution_count": 6,
      "outputs": [
        {
          "output_type": "execute_result",
          "data": {
            "text/plain": [
              "<matplotlib.axes._subplots.AxesSubplot at 0x7f67a5a4dc90>"
            ]
          },
          "metadata": {
            "tags": []
          },
          "execution_count": 6
        },
        {
          "output_type": "stream",
          "text": [
            "findfont: Font family ['NanumBarunGothic'] not found. Falling back to DejaVu Sans.\n",
            "/usr/local/lib/python3.7/dist-packages/matplotlib/backends/backend_agg.py:214: RuntimeWarning: Glyph 51060 missing from current font.\n",
            "  font.set_text(s, 0.0, flags=flags)\n",
            "/usr/local/lib/python3.7/dist-packages/matplotlib/backends/backend_agg.py:214: RuntimeWarning: Glyph 49800 missing from current font.\n",
            "  font.set_text(s, 0.0, flags=flags)\n",
            "/usr/local/lib/python3.7/dist-packages/matplotlib/backends/backend_agg.py:214: RuntimeWarning: Glyph 45216 missing from current font.\n",
            "  font.set_text(s, 0.0, flags=flags)\n",
            "/usr/local/lib/python3.7/dist-packages/matplotlib/backends/backend_agg.py:214: RuntimeWarning: Glyph 50472 missing from current font.\n",
            "  font.set_text(s, 0.0, flags=flags)\n",
            "/usr/local/lib/python3.7/dist-packages/matplotlib/backends/backend_agg.py:214: RuntimeWarning: Glyph 51020 missing from current font.\n",
            "  font.set_text(s, 0.0, flags=flags)\n",
            "/usr/local/lib/python3.7/dist-packages/matplotlib/backends/backend_agg.py:214: RuntimeWarning: Glyph 50501 missing from current font.\n",
            "  font.set_text(s, 0.0, flags=flags)\n",
            "/usr/local/lib/python3.7/dist-packages/matplotlib/backends/backend_agg.py:214: RuntimeWarning: Glyph 49884 missing from current font.\n",
            "  font.set_text(s, 0.0, flags=flags)\n",
            "/usr/local/lib/python3.7/dist-packages/matplotlib/backends/backend_agg.py:214: RuntimeWarning: Glyph 44036 missing from current font.\n",
            "  font.set_text(s, 0.0, flags=flags)\n",
            "/usr/local/lib/python3.7/dist-packages/matplotlib/backends/backend_agg.py:214: RuntimeWarning: Glyph 47579 missing from current font.\n",
            "  font.set_text(s, 0.0, flags=flags)\n",
            "/usr/local/lib/python3.7/dist-packages/matplotlib/backends/backend_agg.py:214: RuntimeWarning: Glyph 51665 missing from current font.\n",
            "  font.set_text(s, 0.0, flags=flags)\n",
            "/usr/local/lib/python3.7/dist-packages/matplotlib/backends/backend_agg.py:214: RuntimeWarning: Glyph 50948 missing from current font.\n",
            "  font.set_text(s, 0.0, flags=flags)\n",
            "/usr/local/lib/python3.7/dist-packages/matplotlib/backends/backend_agg.py:214: RuntimeWarning: Glyph 53412 missing from current font.\n",
            "  font.set_text(s, 0.0, flags=flags)\n",
            "/usr/local/lib/python3.7/dist-packages/matplotlib/backends/backend_agg.py:214: RuntimeWarning: Glyph 47749 missing from current font.\n",
            "  font.set_text(s, 0.0, flags=flags)\n",
            "/usr/local/lib/python3.7/dist-packages/matplotlib/backends/backend_agg.py:214: RuntimeWarning: Glyph 50616 missing from current font.\n",
            "  font.set_text(s, 0.0, flags=flags)\n",
            "/usr/local/lib/python3.7/dist-packages/matplotlib/backends/backend_agg.py:214: RuntimeWarning: Glyph 47676 missing from current font.\n",
            "  font.set_text(s, 0.0, flags=flags)\n",
            "/usr/local/lib/python3.7/dist-packages/matplotlib/backends/backend_agg.py:214: RuntimeWarning: Glyph 51648 missing from current font.\n",
            "  font.set_text(s, 0.0, flags=flags)\n",
            "/usr/local/lib/python3.7/dist-packages/matplotlib/backends/backend_agg.py:214: RuntimeWarning: Glyph 45804 missing from current font.\n",
            "  font.set_text(s, 0.0, flags=flags)\n",
            "/usr/local/lib/python3.7/dist-packages/matplotlib/backends/backend_agg.py:214: RuntimeWarning: Glyph 47141 missing from current font.\n",
            "  font.set_text(s, 0.0, flags=flags)\n",
            "/usr/local/lib/python3.7/dist-packages/matplotlib/backends/backend_agg.py:214: RuntimeWarning: Glyph 51064 missing from current font.\n",
            "  font.set_text(s, 0.0, flags=flags)\n",
            "/usr/local/lib/python3.7/dist-packages/matplotlib/backends/backend_agg.py:214: RuntimeWarning: Glyph 47932 missing from current font.\n",
            "  font.set_text(s, 0.0, flags=flags)\n",
            "/usr/local/lib/python3.7/dist-packages/matplotlib/backends/backend_agg.py:214: RuntimeWarning: Glyph 48264 missing from current font.\n",
            "  font.set_text(s, 0.0, flags=flags)\n",
            "/usr/local/lib/python3.7/dist-packages/matplotlib/backends/backend_agg.py:214: RuntimeWarning: Glyph 50669 missing from current font.\n",
            "  font.set_text(s, 0.0, flags=flags)\n",
            "/usr/local/lib/python3.7/dist-packages/matplotlib/backends/backend_agg.py:214: RuntimeWarning: Glyph 45684 missing from current font.\n",
            "  font.set_text(s, 0.0, flags=flags)\n",
            "/usr/local/lib/python3.7/dist-packages/matplotlib/backends/backend_agg.py:214: RuntimeWarning: Glyph 49828 missing from current font.\n",
            "  font.set_text(s, 0.0, flags=flags)\n",
            "/usr/local/lib/python3.7/dist-packages/matplotlib/backends/backend_agg.py:183: RuntimeWarning: Glyph 51060 missing from current font.\n",
            "  font.set_text(s, 0, flags=flags)\n",
            "/usr/local/lib/python3.7/dist-packages/matplotlib/backends/backend_agg.py:183: RuntimeWarning: Glyph 49800 missing from current font.\n",
            "  font.set_text(s, 0, flags=flags)\n",
            "/usr/local/lib/python3.7/dist-packages/matplotlib/backends/backend_agg.py:183: RuntimeWarning: Glyph 45216 missing from current font.\n",
            "  font.set_text(s, 0, flags=flags)\n",
            "/usr/local/lib/python3.7/dist-packages/matplotlib/backends/backend_agg.py:183: RuntimeWarning: Glyph 50472 missing from current font.\n",
            "  font.set_text(s, 0, flags=flags)\n",
            "/usr/local/lib/python3.7/dist-packages/matplotlib/backends/backend_agg.py:183: RuntimeWarning: Glyph 51020 missing from current font.\n",
            "  font.set_text(s, 0, flags=flags)\n",
            "/usr/local/lib/python3.7/dist-packages/matplotlib/backends/backend_agg.py:183: RuntimeWarning: Glyph 50501 missing from current font.\n",
            "  font.set_text(s, 0, flags=flags)\n",
            "/usr/local/lib/python3.7/dist-packages/matplotlib/backends/backend_agg.py:183: RuntimeWarning: Glyph 49884 missing from current font.\n",
            "  font.set_text(s, 0, flags=flags)\n",
            "/usr/local/lib/python3.7/dist-packages/matplotlib/backends/backend_agg.py:183: RuntimeWarning: Glyph 44036 missing from current font.\n",
            "  font.set_text(s, 0, flags=flags)\n",
            "/usr/local/lib/python3.7/dist-packages/matplotlib/backends/backend_agg.py:183: RuntimeWarning: Glyph 47579 missing from current font.\n",
            "  font.set_text(s, 0, flags=flags)\n",
            "/usr/local/lib/python3.7/dist-packages/matplotlib/backends/backend_agg.py:183: RuntimeWarning: Glyph 51665 missing from current font.\n",
            "  font.set_text(s, 0, flags=flags)\n",
            "/usr/local/lib/python3.7/dist-packages/matplotlib/backends/backend_agg.py:183: RuntimeWarning: Glyph 50948 missing from current font.\n",
            "  font.set_text(s, 0, flags=flags)\n",
            "/usr/local/lib/python3.7/dist-packages/matplotlib/backends/backend_agg.py:183: RuntimeWarning: Glyph 53412 missing from current font.\n",
            "  font.set_text(s, 0, flags=flags)\n",
            "/usr/local/lib/python3.7/dist-packages/matplotlib/backends/backend_agg.py:183: RuntimeWarning: Glyph 47749 missing from current font.\n",
            "  font.set_text(s, 0, flags=flags)\n",
            "/usr/local/lib/python3.7/dist-packages/matplotlib/backends/backend_agg.py:183: RuntimeWarning: Glyph 50616 missing from current font.\n",
            "  font.set_text(s, 0, flags=flags)\n",
            "/usr/local/lib/python3.7/dist-packages/matplotlib/backends/backend_agg.py:183: RuntimeWarning: Glyph 47676 missing from current font.\n",
            "  font.set_text(s, 0, flags=flags)\n",
            "/usr/local/lib/python3.7/dist-packages/matplotlib/backends/backend_agg.py:183: RuntimeWarning: Glyph 51648 missing from current font.\n",
            "  font.set_text(s, 0, flags=flags)\n",
            "/usr/local/lib/python3.7/dist-packages/matplotlib/backends/backend_agg.py:183: RuntimeWarning: Glyph 45804 missing from current font.\n",
            "  font.set_text(s, 0, flags=flags)\n",
            "/usr/local/lib/python3.7/dist-packages/matplotlib/backends/backend_agg.py:183: RuntimeWarning: Glyph 47141 missing from current font.\n",
            "  font.set_text(s, 0, flags=flags)\n",
            "/usr/local/lib/python3.7/dist-packages/matplotlib/backends/backend_agg.py:183: RuntimeWarning: Glyph 51064 missing from current font.\n",
            "  font.set_text(s, 0, flags=flags)\n",
            "/usr/local/lib/python3.7/dist-packages/matplotlib/backends/backend_agg.py:183: RuntimeWarning: Glyph 47932 missing from current font.\n",
            "  font.set_text(s, 0, flags=flags)\n",
            "/usr/local/lib/python3.7/dist-packages/matplotlib/backends/backend_agg.py:183: RuntimeWarning: Glyph 48264 missing from current font.\n",
            "  font.set_text(s, 0, flags=flags)\n",
            "/usr/local/lib/python3.7/dist-packages/matplotlib/backends/backend_agg.py:183: RuntimeWarning: Glyph 50669 missing from current font.\n",
            "  font.set_text(s, 0, flags=flags)\n",
            "/usr/local/lib/python3.7/dist-packages/matplotlib/backends/backend_agg.py:183: RuntimeWarning: Glyph 45684 missing from current font.\n",
            "  font.set_text(s, 0, flags=flags)\n",
            "/usr/local/lib/python3.7/dist-packages/matplotlib/backends/backend_agg.py:183: RuntimeWarning: Glyph 49828 missing from current font.\n",
            "  font.set_text(s, 0, flags=flags)\n"
          ],
          "name": "stderr"
        },
        {
          "output_type": "display_data",
          "data": {
            "image/png": "[encoded data removed]",
            "text/plain": [
              "<Figure size 432x288 with 1 Axes>"
            ]
          },
          "metadata": {
            "tags": [],
            "image/png": {
              "width": 375,
              "height": 250
            },
            "needs_background": "light"
          }
        }
      ]
    },
    {
      "cell_type": "code",
      "metadata": {
        "id": "fnpkhhLDNMZy"
      },
      "source": [
        "okt = Okt()\n",
        "X_train = []\n",
        "for sentence in df.question:\n",
        "    temp_X = []\n",
        "    temp_X = okt.morphs(sentence)\n",
        "    X_train.append(temp_X)"
      ],
      "execution_count": 7,
      "outputs": []
    },
    {
      "cell_type": "code",
      "metadata": {
        "id": "mEM_QylLNo5v"
      },
      "source": [
        "tokenizer = Tokenizer()\n",
        "tokenizer.fit_on_texts(X_train)\n",
        "\n",
        "X_train = tokenizer.texts_to_sequences(X_train)"
      ],
      "execution_count": 8,
      "outputs": []
    },
    {
      "cell_type": "code",
      "metadata": {
        "colab": {
          "base_uri": "https://localhost:8080/"
        },
        "id": "8V1iWCgROONN",
        "outputId": "7f29e598-095e-4414-a73e-9a5fb6215198"
      },
      "source": [
        "print(X_train[:3])"
      ],
      "execution_count": 9,
      "outputs": [
        {
          "output_type": "stream",
          "text": [
            "[[9, 237], [9, 136], [9, 140]]\n"
          ],
          "name": "stdout"
        }
      ]
    },
    {
      "cell_type": "code",
      "metadata": {
        "colab": {
          "base_uri": "https://localhost:8080/"
        },
        "id": "pmB9k0WqOQGu",
        "outputId": "716280dc-08c6-47c2-8349-0f1065a1e18e"
      },
      "source": [
        "print(tokenizer.word_index)"
      ],
      "execution_count": 10,
      "outputs": [
        {
          "output_type": "stream",
          "text": [
            "{'알려줘': 1, '오늘': 2, '명언': 3, '뭐': 4, '알려줘요': 5, '이': 6, '누구': 7, '지': 8, '날씨': 9, '몇': 10, '무슨': 11, '지금': 12, '주': 13, '해줘': 14, '뭔': 15, '시간': 16, '요': 17, '노래': 18, '알려주라': 19, '추천': 20, '상태': 21, '들려줘': 22, '말': 23, '공기': 24, '이슈': 25, '좀': 26, '이번': 27, '맛집': 28, '요즘': 29, '나': 30, '알려줄래': 31, '주변': 32, '내일': 33, '해줘요': 34, '며칠': 35, '이야': 36, '알려줄래요': 37, '의': 38, '좋은': 39, '에요': 40, '뉴스': 41, '사건': 42, '현재': 43, '이제': 44, '곧': 45, '날짜': 46, '번역': 47, '에게': 48, '인가요': 49, '되는': 50, '에': 51, '뜻': 52, '니': 53, '핫': 54, '거': 55, '미세먼지': 56, '하나': 57, '시야': 58, '어디': 59, '가장': 60, '화제': 61, '중국어': 62, '요일': 63, '있나요': 64, '인지': 65, '힘': 66, '들려줘요': 67, '누군지': 68, '일': 69, '궁금해': 70, '마스크': 71, '어떻게': 72, '우산': 73, '가': 74, '해주세요': 75, '해주라': 76, '멋진': 77, '바람': 78, '결과': 79, '다음': 80, '있니': 81, '알려주세요': 82, '프랑스어': 83, '전': 84, '라': 85, '영어': 86, '최근': 87, '시': 88, '치킨': 89, '음악': 90, '분': 91, '수': 92, '해줄래요': 93, '해줄래': 94, '어때': 95, '만': 96, '비': 97, '음식': 98, '야': 99, '아니': 100, '음식점': 101, '들려주라': 102, '한': 103, '해': 104, '게': 105, '어때요': 106, '맛있는': 107, '해주': 108, '알': 109, '아': 110, '알려줄': 111, '모레': 112, '일본어': 113, '있던': 114, '했던': 115, '유행': 116, '하는게': 117, '뜨는게': 118, '죠': 119, '부산': 120, '일이': 121, '어떤': 122, '많이': 123, '주요': 124, '적': 125, '는': 126, '대구': 127, '들려주세요': 128, '한테': 129, '되니': 130, '눈': 131, '부니': 132, '써야': 133, '전주': 134, '들을래': 135, '좋니': 136, '그': 137, '스페인어': 138, '신지': 139, '어떠니': 140, '12일': 141, '인': 142, '날': 143, '너': 144, '알아요': 145, '알려줄수': 146, '서울': 147, '대전': 148, '신문': 149, '어제': 150, '집': 151, '해봐': 152, '로': 153, '서': 154, '듣고': 155, '오나요': 156, '제': 157, '야구': 158, '날인': 159, '아산': 160, '시지': 161, '대해': 162, '제일': 163, '궁금해요': 164, '뭔가': 165, '틀어줘': 166, '울산': 167, '있어': 168, '이지': 169, '이에요': 170, '먼지': 171, '들려줄래': 172, '행복한': 173, '단어': 174, '최신': 175, '도': 176, '광명': 177, '기사': 178, '에서': 179, '라틴어': 180, '나온': 181, '맛': 182, '먹을': 183, '있어요': 184, '얘기': 185, '조언': 186, '뭘': 187, '들을래요': 188, '사회': 189, '했던것': 190, '뜨는': 191, '됐던': 192, '맑니': 193, '정치': 194, '저번': 195, '아시나요': 196, '하늘': 197, '에픽하이': 198, '다음주': 199, '일까': 200, '들려주겠나요': 201, '저': 202, '윤하': 203, '요슴': 204, '누굴까': 205, '하니': 206, '농구': 207, '할까': 208, '4월': 209, '토요일': 210, '가요': 211, '를': 212, '알려': 213, '모르겠어': 214, '난': 215, '까요': 216, '인천': 217, '9월': 218, '오니': 219, '니요': 220, '좋나요': 221, '행복해지는': 222, '신나는': 223, '이탈리아어': 224, '대통령': 225, '맑은': 226, '줘': 227, '부나요': 228, '경주': 229, '축구': 230, '이니': 231, '맛있니': 232, '문장': 233, '데': 234, '일본말': 235, '주제가': 236, '좋아': 237, '구름': 238, '포항': 239, '논산': 240, '3월': 241, '15일': 242, '광주': 243, '마포구': 244, '어떤지': 245, '래': 246, '올림픽': 247, '고기': 248, '피자': 249, '있냐': 250, '천안': 251, '써야하나요': 252, '은': 253, '재생': 254, '달': 255, '돼요': 256, '해줄수': 257, '맑은가요': 258, '단독': 259, '정준영': 260, '였는지': 261, '맛있어': 262, '있죠': 263, '먹을지': 264, '쓰는': 265, '합니다': 266, '사랑': 267, '들': 268, '있었니': 269, '있었나요': 270, '라고': 271, '누군데': 272, '어떨까': 273, '군산': 274, '오는지': 275, '우비': 276, '입을까': 277, '구로구': 278, '제라드': 279, '가방': 280, '충주': 281, '라면': 282, '학교': 283, '쓸까': 284, '들려주겠니': 285, '심심하거든': 286, '해줄': 287, '들려줘야': 288, '저기': 289, '혹시': 290, '번만': 291, '부탁': 292, '독일어': 293, '그리스어': 294, '좋던데': 295, '싶네': 296, '미국': 297, '와': 298, '맑나요': 299, '꼈나요': 300, '올까': 301, '흐리니': 302, '속초': 303, '있겠니': 304, '제주': 305, '돼': 306, '좋아요': 307, '오': 308, '가사': 309, '가슴': 310, '차트': 311, '까먹었어': 312, '줬으면': 313, '까': 314, '밤': 315, '해요': 316, '을': 317, '뽀로로': 318, '와이': 319, '틀어주라': 320, '슬픈': 321, '싶어요': 322, 'ost': 323, '틀어': 324, '냐': 325, '양양': 326, '보여': 327, '진천': 328, '산천': 329, '동두천': 330, '오산': 331, '사람': 332, '인기': 333, '박미선': 334, '김치': 335, '떡갈비': 336, '갈비': 337, '중국': 338, '오징어': 339, '쓰는게': 340, '있을까요': 341, '줘요': 342, '들려줄래요': 343, '들려줄수': 344, '냉장고': 345, '바지': 346, '줄': 347, '에이핑크': 348, '한국': 349, 'un': 350, '사무': 351, '총장': 352, '유재석': 353, '수란': 354, '목소리': 355, '기쁜': 356, '힙합': 357, '오빠': 358, '방탄': 359, '박': 360, '정몽주': 361, '강릉': 362, '글피': 363, '영등포': 364, '챙길까': 365, '주세요': 366, '안산': 367, '금천구': 368, '홍대': 369, '소식': 370, '나왔니': 371, '읽어줘': 372, '읽어줄래요': 373, '이건희': 374, '태권도': 375, '펜싱': 376, '손흥민': 377, '읽어줘요': 378, '날이니요': 379, '알고있나': 380, '였나': 381, '이런': 382, '먹을까요': 383, '정': 384, '맛있죠': 385, '송천동': 386, '익산': 387, '해주겠니': 388, '제주도': 389, '밥': 390, '보면': 391, '써야하니': 392, '것': 393, '재미': 394, '있는': 395, '존경': 396, '바보': 397, '누나': 398, '토마토': 399, '감': 400, '고장': 401, '언': 402, '가나': 403, '간장': 404, '일어': 405, '아랍어': 406, '러시아어': 407, '알고싶어': 408, '서태지': 409, '포켓몬': 410, '디지몬': 411, '나플': 412, '듣고싶어': 413, '고등': 414, '래퍼': 415, '좋더라': 416, '즐거운': 417, '우': 418, '소크라테스': 419, '미래': 420, '김수경': 421, '해시': 422, '스완': 423, '베': 424, '이즈': 425, '대체': 426, '영월': 427, '흐릴까': 428, '흐려': 429, '다다': 430, '음': 431, '꼈니': 432, '챙겨야': 433, '고민': 434, '있을까': 435, '순천': 436, '평택': 437, '부냐': 438, '흐리나요': 439, '흐려요': 440, '길': 441, '보령': 442, '티비': 443, '불법': 444, '읽어': 445, '즐': 446, '연예': 447, '오지헌': 448, '아시안': 449, '게임': 450, '현대': 451, '칠판': 452, '조던': 453, '승리': 454, '일있니요': 455, '순위': 456, '컴퓨터': 457, '더': 458, '인데': 459, '공주': 460, '요요': 461, '고깃집': 462, '왕': 463, '성남': 464, '송파구': 465, '술집': 466, '떡볶이': 467, '여수': 468, '양': 469, '고치': 470, '초밥': 471, '자장면': 472, '탕수육': 473, '음료수': 474, '쓰기': 475, '싫은데': 476, '있겠나요': 477, '좋을까요': 478, '문어': 479, '목성': 480, '죽을래': 481, '창문': 482, '상어': 483, '할머니': 484, '났어': 485, '귀하': 486, '코뿔소': 487, '당신': 488, '얼마': 489, '해왕성': 490, '정성': 491, '이다': 492, '밥솥': 493, '마우스': 494, '미안해': 495, '동생': 496, '걸스': 497, '이병철': 498, '역사': 499, '시라소니': 500, '고': 501, '프랑스': 502, '유병재': 503, '세상': 504, '자': 505, '다리': 506, '종': 507, '공장': 508, '증인': 509, '걸스데이': 510, '루피': 511, '아이오': 512, '아이': 513, '노을': 514, '3': 515, '다시': 516, '밴드': 517, '장범준': 518, '영화': 519, '기억': 520, '빅뱅': 521, '그레이': 522, '슬프더라': 523, '하': 524, '비투비': 525, '행주': 526, '트로트': 527, '듣고싶네': 528, '온': 529, '영': 530, '들려': 531, '아이돌': 532, '실': 533, '맑아': 534, '청주': 535, '춘천': 536, '동구': 537, '옷': 538, '입어야': 539, '완산구': 540, '서산': 541, '부는지': 542, '송도': 543, '이천': 544, '상주': 545, '오냐': 546, '부천': 547, '고령': 548, '나주': 549, '부안': 550, '서천': 551, '영덕': 552, '가로수길': 553, '일산': 554, '속보': 555, '나왔었니': 556, '살인': 557, '아이티': 558, '태양': 559, '홈런': 560, '컵': 561, '엘에이': 562, '다저스': 563, '삼성': 564, '에스케이': 565, '금호': 566, '타이어': 567, '케이씨씨': 568, '유나이티드': 569, '맨체스터': 570, '플레이오프': 571, '알고리즘': 572, '감자': 573, '김지수': 574, '무당': 575, '눈사람': 576, '박지성': 577, '궁전': 578, '문자': 579, '정수': 580, '오미연': 581, '장사꾼': 582, '소리': 583, '꾼': 584, '암탉': 585, '수탉': 586, '국회': 587, '있니요': 588, '북한': 589, '안보리': 590, '정상': 591, '회담': 592, '있었니요': 593, '인기가요': 594, '가두리': 595, '특보': 596, '특종': 597, '문재인': 598, '코파': 599, '날이죠': 600, '모르겠네': 601, '였지': 602, '알고싶어요': 603, '였더라': 604, '되더라': 605, '일일': 606, '있지': 607, '거기': 608, '있지요': 609, '먹을까': 610, '어떤거': 611, '먹을만': 612, '알려주세': 613, '어떤게': 614, '소문난': 615, '유성구': 616, '비빔밥': 617, '라멘': 618, '수원': 619, '주겠니': 620, '유명한': 621, '김밥': 622, '커피': 623, '아이스크림': 624, '빵집': 625, '세종': 626, '순창': 627, '파스타': 628, '양주': 629, '닭꼬치': 630, '돼지고기': 631, '돼지': 632, '짬뽕': 633, '만두': 634, '국수': 635, '새우': 636, '튀김': 637, '수제': 638, '버거': 639, '쌀국수': 640, '맛있어요': 641, '어떤데': 642, '좋은가요': 643, '해주겠나요': 644, '코끼리': 645, '바라볼래요': 646, '텅': 647, '비었군요': 648, '파이프': 649, '탱크': 650, '할아버지': 651, '에어컨': 652, '칫솔': 653, '다': 654, '소설': 655, '설거지': 656, '해야': 657, '깨끗하군요': 658, '들어요': 659, '지구': 660, '사나이': 661, '사과': 662, '배': 663, '여자': 664, '물고기': 665, '바이올린': 666, '셔츠': 667, '공기청정기': 668, '퇴장': 669, '모니터': 670, '군인': 671, '먹고싶어요': 672, '의자': 673, '노라조': 674, '김두한': 675, '인생': 676, '윤동주': 677, '정종철': 678, '유상무': 679, '김종국': 680, '이육사': 681, '강호동': 682, '물고가에': 683, '십자군': 684, '관절': 685, '이상미': 686, '최영민': 687, '박테리아': 688, '헤이즈': 689, '모자': 690, '필통': 691, '전등': 692, '테슬라': 693, '육지': 694, '가지': 695, '가오': 696, '가치': 697, '노랑': 698, '노자': 699, '나사': 700, '나라': 701, '다과': 702, '단추': 703, '단자': 704, '대추': 705, '도모': 706, '강아지': 707, '통장': 708, '장사': 709, '송아지': 710, '밥통': 711, '사자': 712, '상자': 713, '소': 714, '추': 715, '소주': 716, '포기': 717, '크레용': 718, '크몽': 719, '방장': 720, '봉사': 721, '망상': 722, '공장장': 723, '휴지': 724, '높': 725, '연애': 726, '형': 727, '레인보우': 728, '조현영': 729, '가인': 730, '브라운': 731, '이드': 732, '달샤벳': 733, '도끼': 734, '김효': 735, '매드': 736, '클라': 737, '운': 738, '어반자카파': 739, '어반': 740, '카파': 741, '로보트': 742, '씨잼': 743, '베이식': 744, '슈퍼': 745, '면도': 746, '에듀': 747, '케이트': 748, '콜라보': 749, 'wu': 750, '투': 751, '원': 752, '지아': 753, 'mp': 754, '허각': 755, '윤도현': 756, '넬': 757, '아이비': 758, '들으려고': 759, '만난': 760, '세계': 761, '우울한데': 762, '들려줄': 763, '애': 764, '드시어': 765, '런': 766, '쉐이프': 767, '오브': 768, '미': 769, '혁오': 770, '감성': 771, '아픈': 772, '발라드': 773, '잭스': 774, '키스': 775, '아프지': 776, '마': 777, 'edm': 778, '안나는데': 779, '이름': 780, '모르겠는데': 781, '마룬': 782, '파이브': 783, '트둥': 784, '다비치': 785, '원더걸스': 786, '추억': 787, '미스': 788, '에이': 789, '수지': 790, '포미닛': 791, '뱅뱅뱅': 792, '히트': 793, '곡': 794, '하기나': 795, '크러쉬': 796, '블루스': 797, '재즈': 798, '클럽': 799, '나온다면': 800, '우디': 801, '윤종신': 802, '오아시스': 803, '김범수': 804, '좋겠네': 805, '샤이니': 806, '청': 807, 'winner': 808, '싶어져': 809, '현아': 810, '베베': 811, '취하': 812, '면': 813, '지코': 814, '동방신기': 815, '주문': 816, '미로틱': 817, '마이걸': 818, '보이비': 819, '이센스': 820, '구수한': 821, '틀어줄래': 822, '알앤비': 823, '소울': 824, '첸': 825, 'make': 826, 'it': 827, 'count': 828, '멜론': 829, '숀': 830, 'way': 831, 'back': 832, 'home': 833, 'ariana': 834, 'grande': 835, 'aoa': 836, '소년단': 837, '버스커': 838, '싶어': 839, '때': 840, '김하': 841, '우울한': 842, '희망': 843, '비극': 844, '뜨거운': 845, '싶은데': 846, '그룹': 847, '랩': 848, '창모': 849, '한요': 850, '기리보이': 851, '홍진영': 852, '틀어줄래요': 853, '틀어줘요': 854, '오션': 855, '원재': 856, '좋': 857, '더세요': 858, '권지용': 859, '김지원': 860, '백': 861, '김동주': 862, '박근혜': 863, '최': 864, '순': 865, '알고있니': 866, '신': 867, '고요': 868, '알고있죠': 869, '문': 870, '덕진구': 871, '서초구': 872, '강남구': 873, '여의도': 874, '미룡동': 875, '신천': 876, '전북': 877, '말까': 878, '불려나': 879, '역삼동': 880, '챙길지': 881, '되네': 882, '맑아요': 883, '불어': 884, '완주': 885, '비오냐': 886, '오려나': 887, '원주': 888, '양평': 889, '구': 890, '태백': 891, '창포': 892, '덕': 893, '진로': 894, '양양읍': 895, '옥구읍': 896, '장성로': 897, '가평': 898, '사': 899, '귀': 900, '포시': 901, '세종시': 902, '구암': 903, '구로': 904, '안암': 905, '읽어줄래': 906, '나왔던': 907, '뭐라고': 908, '했니': 909, '일있니': 910, '헌': 911, '박명수': 912, '추사': 913, '랑': 914, '이지원': 915, '후추': 916, '알론소': 917, '나온거': 918, '복싱': 919, '기아': 920, '플레이': 921, '오프': 922, '구준엽': 923, '이명박': 924, '김지연': 925, '김수연': 926, '가식': 927, '미투': 928, '일인': 929, '명태': 930, '황태': 931, '빈지노': 932, '오바마': 933, '대한민국': 934, '카카오': 935, '톡': 936, '대진': 937, '호날두': 938, '월드컵': 939, '챔스': 940, '아메리카': 941, '유로': 942, '레알': 943, '문지기': 944, '그래': 945, '아세요': 946, '오른': 947, '돈까스': 948, '케이크': 949, '순대': 950, '덮': 951, '볶음밥': 952, '사천': 953, '광양': 954, '카페': 955, '노원구': 956, '샐러드': 957, '빵': 958, '곳': 959, '마카롱': 960, '소시지': 961, '마산': 962, '샤브샤브': 963, '삼겹살': 964, '정읍': 965, '월남쌈': 966, '남원': 967, '목살': 968, '곱창': 969, '족발': 970, '구리': 971, '폭립': 972, '스테이크': 973, '파주': 974, '규동': 975, '가츠동': 976, '의정부': 977, '규카': 978, '즈': 979, '시흥': 980, '나베': 981, '꼬치': 982, '남양주': 983, '울진': 984, '의왕': 985, '누룽지': 986, '고성': 987, '진안': 988, '연어': 989, '광어': 990, '제육': 991, '볶음': 992, '진도': 993, '진해': 994, '육회': 995, '안양': 996, '국밥집': 997, '화성': 998, '냉면집': 999, '우동': 1000, '닭갈비': 1001, '여주': 1002, '안성': 1003, '찜닭': 1004, '분식집': 1005, '분식': 1006, '팔보채': 1007, '깐풍기': 1008, '중국집': 1009, '잔치국수': 1010, '비빔국수': 1011, '냉면': 1012, '쫄면': 1013, '비빔냉면': 1014, '물냉면': 1015, '감자탕': 1016, '홍어': 1017, '짜': 1018, '글': 1019, '파전': 1020, '육전': 1021, '뼈': 1022, '해장국': 1023, '찜': 1024, '알밥': 1025, '뚝배기': 1026, '순두부': 1027, '햄버거': 1028, '죽집': 1029, '당진': 1030, '횟집': 1031, '호두과자': 1032, '성주': 1033, '주말': 1034, '목포': 1035, '솔초': 1036, '지는': 1037, '좋을까': 1038, '써야하은가요': 1039, '신촌': 1040, '보여요': 1041, '있겠은가요': 1042, '소고기': 1043, '토끼': 1044, '호전': 1045, '장갑': 1046, '기차': 1047, '청소기': 1048, '명치': 1049, '로마': 1050, '상장': 1051, '책상': 1052, '박사': 1053, '상기': 1054, '멸치': 1055, '리모컨': 1056, '장치': 1057, '수기': 1058, '경찰': 1059, '훼방': 1060, '영국': 1061, '가위': 1062, '동전': 1063, '등산': 1064, '남자': 1065, '이불': 1066, '해파리': 1067, '기타': 1068, '자전거': 1069, '토성': 1070, '고마워': 1071, '등장': 1072, '방문': 1073, '파인애플': 1074, '전기': 1075, '배고파요': 1076, '배고파서': 1077, '잠': 1078, '안오네요': 1079, '가고싶어요': 1080, '시장': 1081, '왔어요': 1082, '입어': 1083, '야해요': 1084, '침대': 1085, '누워': 1086, '수납': 1087, '장': 1088, '진심': 1089, '으로': 1090, '서랍': 1091, '소방관': 1092, '알려주실까': 1093, '궁금하군': 1094, '궁금하네': 1095, '궁금하고만': 1096, '궁금하구만': 1097, '죽겠어요': 1098, '전라북도': 1099, '기요틴': 1100, '어벤져스': 1101, '네이버': 1102, '페이스북': 1103, '개그콘서트': 1104, '다리미': 1105, '전기장판': 1106, '노래방': 1107, '대게': 1108, '과자': 1109, '보리차': 1110, '오란씨': 1111, '스파게티': 1112, '전구': 1113, '이상해씨': 1114, '바람개비': 1115, '색연필': 1116, '호랑': 1117, '키': 1118, '김근영': 1119, '그레': 1120, 'ars': 1121, '위선': 1122, '설탕': 1123, '소금': 1124, '밀가루': 1125, '밀너': 1126, '콤파니': 1127, '밥상': 1128, '역지': 1129, '사지': 1130, '오매불망': 1131, '다다익선': 1132, '길항': 1133, '반포': 1134, '교': 1135, '루아르': 1136, '화장': 1137, '메시': 1138, '골대': 1139, '질소': 1140, '녹차': 1141, '미란다': 1142, '일본': 1143, '이탈': 1144, '리': 1145, '칭따오': 1146, '맥주': 1147, '탑': 1148, '산': 1149, '모기': 1150, '필수': 1151, '천둥': 1152, '메이': 1153, '웨더': 1154, '늑대': 1155, '웃찾사': 1156, '정전기': 1157, '온돌': 1158, '나초': 1159, '환타': 1160, '도깨비': 1161, '호롱불': 1162, '파이리': 1163, '풍차': 1164, '숭어': 1165, '가수': 1166, '대': 1167, '통렬': 1168, '우유': 1169, '인형': 1170, '양말': 1171, '볼펜': 1172, '샤프': 1173, '쓰는거야': 1174, '훨씬': 1175, '면은': 1176, '통일': 1177, '건강': 1178, '건물': 1179, '시설': 1180, '외국': 1181, '밑': 1182, '어른': 1183, '대신': 1184, '원인': 1185, '팔다': 1186, '차례': 1187, '군': 1188, '재산': 1189, '팀': 1190, '부모': 1191, '약간': 1192, '언어': 1193, '감독': 1194, '사실': 1195, '자주': 1196, '기간': 1197, '담배': 1198, '조직': 1199, '벌써': 1200, '환자': 1201, '사고': 1202, '쌀': 1203, '일반': 1204, '대화': 1205, '막다': 1206, '올해': 1207, '인물': 1208, '모두': 1209, '전국': 1210, '도움': 1211, '가정': 1212, '버스': 1213, '농업': 1214, '식': 1215, '의견': 1216, '무대': 1217, '사진': 1218, '주장': 1219, '경기': 1220, '목적': 1221, '태도': 1222, '남성': 1223, '주위': 1224, '대책': 1225, '재료': 1226, '각각': 1227, '결코': 1228, '자유': 1229, '책임': 1230, '경쟁': 1231, '달러': 1232, '여름': 1233, '회': 1234, '구체': 1235, '기회': 1236, '번째': 1237, '소비자': 1238, '싫다': 1239, '규모': 1240, '기준': 1241, '반드시': 1242, '스윙스': 1243, '빅스': 1244, '더콰이엇': 1245, '플로우': 1246, '보아': 1247, 'boa': 1248, 'bgm': 1249, '엑소': 1250, '애넥도트': 1251, '버벌진트': 1252, '소녀시대': 1253, '그렇게': 1254, 'believer': 1255, '알리': 1256, '손승연': 1257, 'emd': 1258, '성시경': 1259, '감미롭던데': 1260, '효린': 1261, '하하': 1262, '빡센': 1263, '외힙': 1264, '살기': 1265, '위해': 1266, '베토벤': 1267, '클래식': 1268, '팝송': 1269, '브리티쉬': 1270, '들을려고': 1271, '아플': 1272, '들을만한': 1273, '힘들': 1274, '듣기': 1275, '아이콘': 1276, '했다': 1277, '닐': 1278, '지나오다': 1279, '멜': 1280, '로망스': 1281, '별': 1282, '빛나는': 1283, '빈첸': 1284, '하선': 1285, '호': 1286, '허클베리피': 1287, '붕붕': 1288, '바코드': 1289, '기분': 1290, '이은미': 1291, '녹턴': 1292, '동요': 1293, '재밌는': 1294, '들려줄수있니': 1295, '잔잔한': 1296, '뉴에이지': 1297, '시원한': 1298, '상쾌한': 1299, '걷는': 1300, '소나무': 1301, '이수': 1302, '들려줬으면': 1303, '좋겠어': 1304, '좋다': 1305, '그루비': 1306, '룸': 1307, '프로': 1308, '듀스': 1309, '코드': 1310, '쿤스트': 1311, '자이언티': 1312, '양화대교': 1313, '베베미뇽': 1314, '듣고싶은데': 1315, '10': 1316, 'cm': 1317, '세븐': 1318, '틴': 1319, '왼': 1320, '리쌍': 1321, '아름다워': 1322, '싶네요': 1323, '라붐': 1324, '노엘': 1325, '헬리콥터': 1326, '릴': 1327, '보이': 1328, '먼데이': 1329, '키즈': 1330, '가울': 1331, '안부': 1332, '백예린': 1333, '신곡': 1334, '나왔던데': 1335, '엔플라잉': 1336, '옥탑방': 1337, '재키': 1338, '검': 1339, '최하': 1340, '민': 1341, '웨이브': 1342, '송민호': 1343, '아낙네': 1344, '고백': 1345, '들어줄래요': 1346, '벤의': 1347, '중': 1348, '선미': 1349, '누': 1350, '아르': 1351, '호불호': 1352, '시차': 1353, 'exid': 1354, '러블': 1355, '리즈': 1356, '여자친구': 1357, '걸그룹': 1358, '후예': 1359, '줄래요': 1360, '2': 1361, 'ne': 1362, '1': 1363, '싶어져요': 1364, '모모': 1365, '랜드': 1366, '애프터스쿨': 1367, '우주소녀': 1368, '아스트로': 1369, '틀어주세': 1370, '스나이퍼': 1371, '로꼬': 1372, '비스트': 1373, '좋던데요': 1374, '한동근': 1375, '끝': 1376, '써': 1377, '보려해': 1378, '박진영': 1379, '허니': 1380, '트와이스': 1381, '이쁘다': 1382, '방탄소년단': 1383, '멋있어': 1384, '윤': 1385, '시운': 1386, '강규': 1387, '김량규': 1388, '안데르손': 1389, '김상현': 1390, '나연': 1391, '말리': 1392, '봉신': 1393, '김지현': 1394, '김순태': 1395, '김민지': 1396, '이소영': 1397, '심슨': 1398, '용준형': 1399, '이미자': 1400, '주정': 1401, '용': 1402, '정현': 1403, '명': 1404, '정기고': 1405, '박도현': 1406, '넉': 1407, '살': 1408, '인절미': 1409, '김요셉': 1410, '이정철': 1411, '승범': 1412, '감스트': 1413, '고아라': 1414, '로버트할리': 1415, '최민성': 1416, '에미넴': 1417, '한석희': 1418, '최태훈': 1419, '소지섭': 1420, '이준희': 1421, '김수': 1422, '성': 1423, '이지현': 1424, '인덕': 1425, '우솝': 1426, '강유진': 1427, '우호': 1428, '류': 1429, '덕산': 1430, '이지은': 1431, '게요': 1432, '마이클': 1433, '하석주': 1434, '김철수': 1435, '은재': 1436, '최지은': 1437, '박나래': 1438, '박혜원': 1439, '김희철': 1440, '김태우': 1441, '신정훈': 1442, '그렉': 1443, '황예진': 1444, '변희봉': 1445, '이정휴': 1446, '박신양': 1447, '로이킴': 1448, '유시민': 1449, '지호': 1450, '김민성': 1451, '비욘세': 1452, '박대기': 1453, '손': 1454, '의범': 1455, '노용': 1456, '최재영': 1457, '스터리지': 1458, '섭': 1459, '홍희': 1460, '선': 1461, '강준영': 1462, '윤미래': 1463, '신서희': 1464, '유희왕': 1465, '정한조': 1466, '최병주': 1467, '피아노': 1468, '맨': 1469, '장국영': 1470, '반': 1471, '상민': 1472, '구태': 1473, '에일리': 1474, '김건우': 1475, '정민': 1476, '박기봉': 1477, '아이린': 1478, '김태희': 1479, '권해': 1480, '찬': 1481, '샹크스': 1482, '호나우두': 1483, '이승형': 1484, '천': 1485, '지현': 1486, '김근수': 1487, '노혜민': 1488, '공민지': 1489, '김아름': 1490, '박재인': 1491, '단군': 1492, '동명성왕': 1493, '온조왕': 1494, '혁거세': 1495, '광개토왕': 1496, '광개토대왕': 1497, '이사부': 1498, '백결': 1499, '선생': 1500, '의자왕': 1501, '계백': 1502, '관창': 1503, '김유신': 1504, '문무왕': 1505, '원효': 1506, '원효대사': 1507, '혜초': 1508, '장보고': 1509, '고왕': 1510, '대조영': 1511, '강감찬': 1512, '서희': 1513, '정중부': 1514, '최무선': 1515, '강좌칠현': 1516, '죽림칠현': 1517, '임춘': 1518, '오세재': 1519, '이인로': 1520, '조통': 1521, '황보항': 1522, '이담지': 1523, '함순': 1524, '김부식': 1525, '지눌': 1526, '지눌국사': 1527, '의천': 1528, '이종무': 1529, '문익점': 1530, '최충': 1531, '일연': 1532, '최영': 1533, '황희': 1534, '맹사성': 1535, '장영실': 1536, '신숙주': 1537, '한명회': 1538, '이이': 1539, '이율곡': 1540, '이황': 1541, '이퇴계': 1542, '신사임당': 1543, '곽재우': 1544, '조헌': 1545, '김시민': 1546, '이순신': 1547, '태조': 1548, '정종': 1549, '태종': 1550, '문종': 1551, '단종': 1552, '세조': 1553, '사육신': 1554, '성삼문': 1555, '박팽년': 1556, '하위지': 1557, '이개': 1558, '유응부': 1559, '유성원': 1560, '생육신': 1561, '김시습': 1562, '원호': 1563, '이맹전': 1564, '조려': 1565, '성담수': 1566, '남효온': 1567, '논개': 1568, '권율': 1569, '홍길동': 1570, '임꺽정': 1571, '삼학사': 1572, '홍익': 1573, '윤집': 1574, '오달제': 1575, '박문수': 1576, '한호': 1577, '한석봉': 1578, '김홍도': 1579, '단원': 1580, '김병연': 1581, '김삿갓': 1582, '김정호': 1583, '영조': 1584, '영조대왕': 1585, '정조': 1586, '정약용': 1587, '전봉준': 1588, '김대건': 1589, '황진이': 1590, '홍경래': 1591, '김옥균': 1592, '안중근': 1593, '이완용': 1594, '지석영': 1595, '손병희': 1596, '유관순': 1597, '안창호': 1598, '방정환': 1599, '이수일': 1600, '심': 1601, '순애': 1602, '이상': 1603, '이중섭': 1604, '중섭': 1605}\n"
          ],
          "name": "stdout"
        }
      ]
    },
    {
      "cell_type": "code",
      "metadata": {
        "id": "AK5R4DTBUd3p"
      },
      "source": [
        "vocab_size = len(tokenizer.word_index) + 1"
      ],
      "execution_count": 11,
      "outputs": []
    },
    {
      "cell_type": "code",
      "metadata": {
        "colab": {
          "base_uri": "https://localhost:8080/",
          "height": 301
        },
        "id": "JqyagH0qOfTk",
        "outputId": "465c4b0c-e7da-4fd8-b455-6defa6cfa48d"
      },
      "source": [
        "print('샘플의 최대길이 : ', max(len(x) for x in X_train))\n",
        "print('샘플의 평균길이 : ', sum(map(len, X_train)) / len(X_train))\n",
        "\n",
        "plt.hist([len(s) for s in X_train], bins = 50)\n",
        "plt.show()"
      ],
      "execution_count": 12,
      "outputs": [
        {
          "output_type": "stream",
          "text": [
            "샘플의 최대길이 :  10\n",
            "샘플의 평균길이 :  4.077590607452782\n"
          ],
          "name": "stdout"
        },
        {
          "output_type": "display_data",
          "data": {
            "image/png": "[encoded data removed]",
            "text/plain": [
              "<Figure size 432x288 with 1 Axes>"
            ]
          },
          "metadata": {
            "tags": [],
            "image/png": {
              "width": 381,
              "height": 248
            },
            "needs_background": "light"
          }
        }
      ]
    },
    {
      "cell_type": "code",
      "metadata": {
        "colab": {
          "base_uri": "https://localhost:8080/"
        },
        "id": "8q1DW93wOkXG",
        "outputId": "84f8453b-d4d4-4387-edf1-3476cc3b2e3f"
      },
      "source": [
        "max_len = 10\n",
        "X_train = pad_sequences(X_train, maxlen=max_len, padding='post')\n",
        "X_train"
      ],
      "execution_count": 13,
      "outputs": [
        {
          "output_type": "execute_result",
          "data": {
            "text/plain": [
              "array([[   9,  237,    0, ...,    0,    0,    0],\n",
              "       [   9,  136,    0, ...,    0,    0,    0],\n",
              "       [   9,  140,    0, ...,    0,    0,    0],\n",
              "       ...,\n",
              "       [1603,    7,    0, ...,    0,    0,    0],\n",
              "       [1604,    7,    0, ...,    0,    0,    0],\n",
              "       [1605,    7,    0, ...,    0,    0,    0]], dtype=int32)"
            ]
          },
          "metadata": {
            "tags": []
          },
          "execution_count": 13
        }
      ]
    },
    {
      "cell_type": "code",
      "metadata": {
        "colab": {
          "base_uri": "https://localhost:8080/"
        },
        "id": "kGRr5f-KQr8c",
        "outputId": "682e953e-e618-4671-b751-f022c88521de"
      },
      "source": [
        "idx_encode = preprocessing.LabelEncoder()\n",
        "idx_encode.fit(df['intent'])\n",
        "\n",
        "y_train = idx_encode.transform(df['intent'])\n",
        "\n",
        "label_idx = dict(zip(list(idx_encode.classes_), idx_encode.transform(list(idx_encode.classes_))))\n",
        "\n",
        "print(label_idx)"
      ],
      "execution_count": 14,
      "outputs": [
        {
          "output_type": "stream",
          "text": [
            "{'날씨': 0, '뉴스': 1, '달력': 2, '맛집': 3, '먼지': 4, '명언': 5, '번역': 6, '시간': 7, '위키': 8, '음악': 9, '이슈': 10, '인물': 11}\n"
          ],
          "name": "stdout"
        }
      ]
    },
    {
      "cell_type": "code",
      "metadata": {
        "colab": {
          "base_uri": "https://localhost:8080/"
        },
        "id": "T5fCu-zHRva2",
        "outputId": "dc556be3-7fd8-49b5-e045-751d46c2bf9b"
      },
      "source": [
        "idx_label = {}\n",
        "for key, value in label_idx.items():\n",
        "    idx_label[value] = key\n",
        "\n",
        "idx_label    "
      ],
      "execution_count": 15,
      "outputs": [
        {
          "output_type": "execute_result",
          "data": {
            "text/plain": [
              "{0: '날씨',\n",
              " 1: '뉴스',\n",
              " 2: '달력',\n",
              " 3: '맛집',\n",
              " 4: '먼지',\n",
              " 5: '명언',\n",
              " 6: '번역',\n",
              " 7: '시간',\n",
              " 8: '위키',\n",
              " 9: '음악',\n",
              " 10: '이슈',\n",
              " 11: '인물'}"
            ]
          },
          "metadata": {
            "tags": []
          },
          "execution_count": 15
        }
      ]
    },
    {
      "cell_type": "code",
      "metadata": {
        "id": "E6rlp9dhOkZu"
      },
      "source": [
        "from tensorflow.keras.layers import Embedding, Dense, LSTM\n",
        "from tensorflow.keras.models import Sequential\n",
        "from tensorflow.keras.models import load_model"
      ],
      "execution_count": 16,
      "outputs": []
    },
    {
      "cell_type": "code",
      "metadata": {
        "id": "SirbS3L-Okca"
      },
      "source": [
        "model = Sequential()\n",
        "model.add(Embedding(vocab_size, 64))\n",
        "model.add(LSTM(256))\n",
        "model.add(Dense(64, activation='relu'))\n",
        "model.add(Dense(len(label_idx), activation='softmax'))"
      ],
      "execution_count": 17,
      "outputs": []
    },
    {
      "cell_type": "code",
      "metadata": {
        "colab": {
          "base_uri": "https://localhost:8080/"
        },
        "id": "gGaT9LVaOkeR",
        "outputId": "94ea5507-3bd2-41c7-a7b9-04874edd8772"
      },
      "source": [
        "model.compile(optimizer='rmsprop', loss='sparse_categorical_crossentropy', metrics=['acc'])\n",
        "model.fit(X_train, y_train, epochs = 15, batch_size = 64)"
      ],
      "execution_count": 18,
      "outputs": [
        {
          "output_type": "stream",
          "text": [
            "Epoch 1/15\n",
            "62/62 [==============================] - 33s 10ms/step - loss: 2.1411 - acc: 0.1841\n",
            "Epoch 2/15\n",
            "62/62 [==============================] - 1s 9ms/step - loss: 1.1915 - acc: 0.5045\n",
            "Epoch 3/15\n",
            "62/62 [==============================] - 1s 9ms/step - loss: 0.7088 - acc: 0.7630\n",
            "Epoch 4/15\n",
            "62/62 [==============================] - 1s 15ms/step - loss: 0.3705 - acc: 0.9039\n",
            "Epoch 5/15\n",
            "62/62 [==============================] - 1s 9ms/step - loss: 0.2018 - acc: 0.9432\n",
            "Epoch 6/15\n",
            "62/62 [==============================] - 1s 9ms/step - loss: 0.1121 - acc: 0.9703\n",
            "Epoch 7/15\n",
            "62/62 [==============================] - 1s 9ms/step - loss: 0.0728 - acc: 0.9818\n",
            "Epoch 8/15\n",
            "62/62 [==============================] - 1s 9ms/step - loss: 0.0815 - acc: 0.9805\n",
            "Epoch 9/15\n",
            "62/62 [==============================] - 1s 9ms/step - loss: 0.0621 - acc: 0.9829\n",
            "Epoch 10/15\n",
            "62/62 [==============================] - 1s 9ms/step - loss: 0.0271 - acc: 0.9924\n",
            "Epoch 11/15\n",
            "62/62 [==============================] - 1s 9ms/step - loss: 0.0975 - acc: 0.9762\n",
            "Epoch 12/15\n",
            "62/62 [==============================] - 1s 9ms/step - loss: 0.0173 - acc: 0.9958\n",
            "Epoch 13/15\n",
            "62/62 [==============================] - 1s 9ms/step - loss: 0.0404 - acc: 0.9915\n",
            "Epoch 14/15\n",
            "62/62 [==============================] - 1s 10ms/step - loss: 0.0696 - acc: 0.9793\n",
            "Epoch 15/15\n",
            "62/62 [==============================] - 1s 10ms/step - loss: 0.0217 - acc: 0.9919\n"
          ],
          "name": "stdout"
        },
        {
          "output_type": "execute_result",
          "data": {
            "text/plain": [
              "<tensorflow.python.keras.callbacks.History at 0x7f67855348d0>"
            ]
          },
          "metadata": {
            "tags": []
          },
          "execution_count": 18
        }
      ]
    },
    {
      "cell_type": "markdown",
      "metadata": {
        "id": "v7s4qI3vogxN"
      },
      "source": [
        "---"
      ]
    },
    {
      "cell_type": "markdown",
      "metadata": {
        "id": "WRB569ZCoh9G"
      },
      "source": [
        "***간략히 챗봇 제작 전 내용 상기를 위해 간단한 훈련을 진행***\n",
        "\n",
        "오직 1개의 오픈 데이터셋을 받아 특정 질문에 대한 인텐트 예측 모델을 구성시켜 봄\n",
        "\n",
        "  - 위 학습은 '질문'과 '인텐트'로 구성되어 있는 데이터셋을 활용하여 진행\n",
        "  - 토큰화 정수화\n",
        "  - index to label과 label to index 딕셔너리를 구성\n",
        "  - LSTM 을 통한 학습"
      ]
    },
    {
      "cell_type": "markdown",
      "metadata": {
        "id": "GnRV9dBzOkgn"
      },
      "source": [
        "---"
      ]
    },
    {
      "cell_type": "code",
      "metadata": {
        "id": "3TWVhZ1CqqSF"
      },
      "source": [
        "# 형태소 분석\n",
        "# 토큰화\n",
        "# 패딩 \n",
        "\n",
        "def question_processing(sentences):\n",
        "    inputs = []\n",
        "    for sentence in sentences:\n",
        "        sentence = okt.morphs(sentence) \n",
        "        encoded = tokenizer.texts_to_sequences([sentence])\n",
        "        inputs.append(encoded[0])\n",
        "    padded_inputs = pad_sequences(inputs, maxlen=max_len, padding='post')\n",
        "    return padded_inputs"
      ],
      "execution_count": 23,
      "outputs": []
    },
    {
      "cell_type": "code",
      "metadata": {
        "id": "HKUvqXpJqqzt"
      },
      "source": [
        "input_sentence = question_processing(['서울 날씨 어때?', \n",
        "                                      '나는 전주 날씨 궁금함',\n",
        "                                      '안중근 의사는 누구야?',\n",
        "                                      '이순신 장군님은 어떤 사람이니?',\n",
        "                                      '명동 맛있는 음식점 있니?'\n",
        "                                     ])"
      ],
      "execution_count": 24,
      "outputs": []
    },
    {
      "cell_type": "code",
      "metadata": {
        "colab": {
          "base_uri": "https://localhost:8080/"
        },
        "id": "yAtKAQA9qq16",
        "outputId": "8f59c711-dd90-408b-f173-34b148b23606"
      },
      "source": [
        "input_sentence"
      ],
      "execution_count": 25,
      "outputs": [
        {
          "output_type": "execute_result",
          "data": {
            "text/plain": [
              "array([[ 147,    9,   95,    0,    0,    0,    0,    0,    0,    0],\n",
              "       [  30,  126,  134,    9,    0,    0,    0,    0,    0,    0],\n",
              "       [1593,  126,    7,   99,    0,    0,    0,    0,    0,    0],\n",
              "       [1547,  253,  122,  332,  231,    0,    0,    0,    0,    0],\n",
              "       [ 107,  101,   81,    0,    0,    0,    0,    0,    0,    0]],\n",
              "      dtype=int32)"
            ]
          },
          "metadata": {
            "tags": []
          },
          "execution_count": 25
        }
      ]
    },
    {
      "cell_type": "code",
      "metadata": {
        "colab": {
          "base_uri": "https://localhost:8080/"
        },
        "id": "d03AVUyYqq8t",
        "outputId": "61d7ff49-247c-402b-874d-5bb1ddc4d27e"
      },
      "source": [
        "prediction = np.argmax(model.predict(input_sentence), axis=1)\n",
        "print(prediction)"
      ],
      "execution_count": 26,
      "outputs": [
        {
          "output_type": "stream",
          "text": [
            "[ 0  4 11  9  3]\n"
          ],
          "name": "stdout"
        }
      ]
    },
    {
      "cell_type": "code",
      "metadata": {
        "colab": {
          "base_uri": "https://localhost:8080/"
        },
        "id": "jmf8SpHoqq_N",
        "outputId": "2cd3eb4c-6f16-4bc9-e322-8d89bea8c26f"
      },
      "source": [
        "for p in prediction:\n",
        "    print(idx_label[p])"
      ],
      "execution_count": 27,
      "outputs": [
        {
          "output_type": "stream",
          "text": [
            "날씨\n",
            "먼지\n",
            "인물\n",
            "음악\n",
            "맛집\n"
          ],
          "name": "stdout"
        }
      ]
    },
    {
      "cell_type": "markdown",
      "metadata": {
        "id": "qItOSNbW5Ls_"
      },
      "source": [
        "***상위는 생성한 모델을 통해 예측 테스트를 진행한 결과***"
      ]
    },
    {
      "cell_type": "markdown",
      "metadata": {
        "id": "fsSpF5qOqrB5"
      },
      "source": [
        "---"
      ]
    },
    {
      "cell_type": "code",
      "metadata": {
        "id": "PqYXIZ3nKcnx"
      },
      "source": [
        "names = ['안중근', '이순신', '세종대왕', '김광석', '아이유', '에미넴', '이건희', '고아라', '유재석', '한석희', '최민성']\n",
        "def question_generator(names):\n",
        "    question = []\n",
        "    for name in names:\n",
        "        s1 = name+'는 어떤 분이야?'\n",
        "        s2 = name+'은 어떤 사람이니?'\n",
        "        s3 = name+'이란 사람에 대해 궁금해'\n",
        "        question = question+[s1, s2, s3]\n",
        "    return question\n",
        "question = question_generator(names)"
      ],
      "execution_count": 28,
      "outputs": []
    },
    {
      "cell_type": "code",
      "metadata": {
        "colab": {
          "base_uri": "https://localhost:8080/"
        },
        "id": "9DzTNDs-5jMR",
        "outputId": "607aa3bf-9a52-4b74-bf21-b1e6ae78d0b0"
      },
      "source": [
        "question"
      ],
      "execution_count": 29,
      "outputs": [
        {
          "output_type": "execute_result",
          "data": {
            "text/plain": [
              "['안중근는 어떤 분이야?',\n",
              " '안중근은 어떤 사람이니?',\n",
              " '안중근이란 사람에 대해 궁금해',\n",
              " '이순신는 어떤 분이야?',\n",
              " '이순신은 어떤 사람이니?',\n",
              " '이순신이란 사람에 대해 궁금해',\n",
              " '세종대왕는 어떤 분이야?',\n",
              " '세종대왕은 어떤 사람이니?',\n",
              " '세종대왕이란 사람에 대해 궁금해',\n",
              " '김광석는 어떤 분이야?',\n",
              " '김광석은 어떤 사람이니?',\n",
              " '김광석이란 사람에 대해 궁금해',\n",
              " '아이유는 어떤 분이야?',\n",
              " '아이유은 어떤 사람이니?',\n",
              " '아이유이란 사람에 대해 궁금해',\n",
              " '에미넴는 어떤 분이야?',\n",
              " '에미넴은 어떤 사람이니?',\n",
              " '에미넴이란 사람에 대해 궁금해',\n",
              " '이건희는 어떤 분이야?',\n",
              " '이건희은 어떤 사람이니?',\n",
              " '이건희이란 사람에 대해 궁금해',\n",
              " '고아라는 어떤 분이야?',\n",
              " '고아라은 어떤 사람이니?',\n",
              " '고아라이란 사람에 대해 궁금해',\n",
              " '유재석는 어떤 분이야?',\n",
              " '유재석은 어떤 사람이니?',\n",
              " '유재석이란 사람에 대해 궁금해',\n",
              " '한석희는 어떤 분이야?',\n",
              " '한석희은 어떤 사람이니?',\n",
              " '한석희이란 사람에 대해 궁금해',\n",
              " '최민성는 어떤 분이야?',\n",
              " '최민성은 어떤 사람이니?',\n",
              " '최민성이란 사람에 대해 궁금해']"
            ]
          },
          "metadata": {
            "tags": []
          },
          "execution_count": 29
        }
      ]
    },
    {
      "cell_type": "code",
      "metadata": {
        "id": "sX1q2MZCK7sP"
      },
      "source": [
        "new_data = {'question' : question, 'intent' : ['인물']*len(question)}\n",
        "add_df = pd.DataFrame(new_data, columns=('question', 'intent'))"
      ],
      "execution_count": 30,
      "outputs": []
    },
    {
      "cell_type": "code",
      "metadata": {
        "colab": {
          "base_uri": "https://localhost:8080/",
          "height": 204
        },
        "id": "06h9WfYEK_0w",
        "outputId": "6140589c-a4ef-45cb-fb0d-9b73003add76"
      },
      "source": [
        "add_df.tail()"
      ],
      "execution_count": 31,
      "outputs": [
        {
          "output_type": "execute_result",
          "data": {
            "text/html": [
              "<div>\n",
              "<style scoped>\n",
              "    .dataframe tbody tr th:only-of-type {\n",
              "        vertical-align: middle;\n",
              "    }\n",
              "\n",
              "    .dataframe tbody tr th {\n",
              "        vertical-align: top;\n",
              "    }\n",
              "\n",
              "    .dataframe thead th {\n",
              "        text-align: right;\n",
              "    }\n",
              "</style>\n",
              "<table border=\"1\" class=\"dataframe\">\n",
              "  <thead>\n",
              "    <tr style=\"text-align: right;\">\n",
              "      <th></th>\n",
              "      <th>question</th>\n",
              "      <th>intent</th>\n",
              "    </tr>\n",
              "  </thead>\n",
              "  <tbody>\n",
              "    <tr>\n",
              "      <th>28</th>\n",
              "      <td>한석희은 어떤 사람이니?</td>\n",
              "      <td>인물</td>\n",
              "    </tr>\n",
              "    <tr>\n",
              "      <th>29</th>\n",
              "      <td>한석희이란 사람에 대해 궁금해</td>\n",
              "      <td>인물</td>\n",
              "    </tr>\n",
              "    <tr>\n",
              "      <th>30</th>\n",
              "      <td>최민성는 어떤 분이야?</td>\n",
              "      <td>인물</td>\n",
              "    </tr>\n",
              "    <tr>\n",
              "      <th>31</th>\n",
              "      <td>최민성은 어떤 사람이니?</td>\n",
              "      <td>인물</td>\n",
              "    </tr>\n",
              "    <tr>\n",
              "      <th>32</th>\n",
              "      <td>최민성이란 사람에 대해 궁금해</td>\n",
              "      <td>인물</td>\n",
              "    </tr>\n",
              "  </tbody>\n",
              "</table>\n",
              "</div>"
            ],
            "text/plain": [
              "            question intent\n",
              "28     한석희은 어떤 사람이니?     인물\n",
              "29  한석희이란 사람에 대해 궁금해     인물\n",
              "30      최민성는 어떤 분이야?     인물\n",
              "31     최민성은 어떤 사람이니?     인물\n",
              "32  최민성이란 사람에 대해 궁금해     인물"
            ]
          },
          "metadata": {
            "tags": []
          },
          "execution_count": 31
        }
      ]
    },
    {
      "cell_type": "code",
      "metadata": {
        "colab": {
          "base_uri": "https://localhost:8080/"
        },
        "id": "C1WqCvY85lhB",
        "outputId": "87af49e7-afa8-4830-e948-8a359e10d9d8"
      },
      "source": [
        "new_df = pd.concat([df, add_df])\n",
        "print(len(new_df))"
      ],
      "execution_count": 32,
      "outputs": [
        {
          "output_type": "stream",
          "text": [
            "3951\n"
          ],
          "name": "stdout"
        }
      ]
    },
    {
      "cell_type": "markdown",
      "metadata": {
        "id": "iisLT1CB6UUT"
      },
      "source": [
        "***기존 트레인 데이터와 Concatenate***\n",
        "\n",
        "기존 학습데이터에 활용된 intent 이다.\n",
        "\n",
        "  {0: '날씨',\\\n",
        "  1: '뉴스',\\\n",
        "  2: '달력',\\\n",
        "  3: '맛집',\\\n",
        "  4: '먼지',\\\n",
        "  5: '명언',\\\n",
        "  6: '번역',\\\n",
        "  7: '시간',\\\n",
        "  8: '위키',\\\n",
        "  9: '음악',\\\n",
        "  10: '이슈',\\\n",
        "  11: '인물'}\n",
        "\n",
        "  여기에 인물에 대한 intent 및 질문을 추가하였다.\n",
        "\n"
      ]
    },
    {
      "cell_type": "code",
      "metadata": {
        "colab": {
          "base_uri": "https://localhost:8080/",
          "height": 419
        },
        "id": "tCq9EEh76Rwq",
        "outputId": "6116231c-826f-45dd-c09e-96423feead64"
      },
      "source": [
        "new_df"
      ],
      "execution_count": 33,
      "outputs": [
        {
          "output_type": "execute_result",
          "data": {
            "text/html": [
              "<div>\n",
              "<style scoped>\n",
              "    .dataframe tbody tr th:only-of-type {\n",
              "        vertical-align: middle;\n",
              "    }\n",
              "\n",
              "    .dataframe tbody tr th {\n",
              "        vertical-align: top;\n",
              "    }\n",
              "\n",
              "    .dataframe thead th {\n",
              "        text-align: right;\n",
              "    }\n",
              "</style>\n",
              "<table border=\"1\" class=\"dataframe\">\n",
              "  <thead>\n",
              "    <tr style=\"text-align: right;\">\n",
              "      <th></th>\n",
              "      <th>question</th>\n",
              "      <th>intent</th>\n",
              "    </tr>\n",
              "  </thead>\n",
              "  <tbody>\n",
              "    <tr>\n",
              "      <th>0</th>\n",
              "      <td>날씨 좋아</td>\n",
              "      <td>날씨</td>\n",
              "    </tr>\n",
              "    <tr>\n",
              "      <th>1</th>\n",
              "      <td>날씨 좋니</td>\n",
              "      <td>날씨</td>\n",
              "    </tr>\n",
              "    <tr>\n",
              "      <th>2</th>\n",
              "      <td>날씨 어떠니</td>\n",
              "      <td>날씨</td>\n",
              "    </tr>\n",
              "    <tr>\n",
              "      <th>3</th>\n",
              "      <td>영월 날씨 좋니</td>\n",
              "      <td>날씨</td>\n",
              "    </tr>\n",
              "    <tr>\n",
              "      <th>4</th>\n",
              "      <td>오늘 비 오나요</td>\n",
              "      <td>날씨</td>\n",
              "    </tr>\n",
              "    <tr>\n",
              "      <th>...</th>\n",
              "      <td>...</td>\n",
              "      <td>...</td>\n",
              "    </tr>\n",
              "    <tr>\n",
              "      <th>28</th>\n",
              "      <td>한석희은 어떤 사람이니?</td>\n",
              "      <td>인물</td>\n",
              "    </tr>\n",
              "    <tr>\n",
              "      <th>29</th>\n",
              "      <td>한석희이란 사람에 대해 궁금해</td>\n",
              "      <td>인물</td>\n",
              "    </tr>\n",
              "    <tr>\n",
              "      <th>30</th>\n",
              "      <td>최민성는 어떤 분이야?</td>\n",
              "      <td>인물</td>\n",
              "    </tr>\n",
              "    <tr>\n",
              "      <th>31</th>\n",
              "      <td>최민성은 어떤 사람이니?</td>\n",
              "      <td>인물</td>\n",
              "    </tr>\n",
              "    <tr>\n",
              "      <th>32</th>\n",
              "      <td>최민성이란 사람에 대해 궁금해</td>\n",
              "      <td>인물</td>\n",
              "    </tr>\n",
              "  </tbody>\n",
              "</table>\n",
              "<p>3951 rows × 2 columns</p>\n",
              "</div>"
            ],
            "text/plain": [
              "            question intent\n",
              "0              날씨 좋아     날씨\n",
              "1              날씨 좋니     날씨\n",
              "2             날씨 어떠니     날씨\n",
              "3           영월 날씨 좋니     날씨\n",
              "4           오늘 비 오나요     날씨\n",
              "..               ...    ...\n",
              "28     한석희은 어떤 사람이니?     인물\n",
              "29  한석희이란 사람에 대해 궁금해     인물\n",
              "30      최민성는 어떤 분이야?     인물\n",
              "31     최민성은 어떤 사람이니?     인물\n",
              "32  최민성이란 사람에 대해 궁금해     인물\n",
              "\n",
              "[3951 rows x 2 columns]"
            ]
          },
          "metadata": {
            "tags": []
          },
          "execution_count": 33
        }
      ]
    },
    {
      "cell_type": "code",
      "metadata": {
        "id": "D4ag2HcZ6eTr"
      },
      "source": [
        "X_train = []\n",
        "for sentence in new_df.question:\n",
        "    temp_X = []\n",
        "    temp_X = okt.morphs(sentence)\n",
        "    X_train.append(temp_X)"
      ],
      "execution_count": 34,
      "outputs": []
    },
    {
      "cell_type": "code",
      "metadata": {
        "colab": {
          "base_uri": "https://localhost:8080/"
        },
        "id": "Aj8wSbKf6hY9",
        "outputId": "ffb1d125-09d3-4e22-d587-99325f5491c7"
      },
      "source": [
        "print(X_train[:3])"
      ],
      "execution_count": 35,
      "outputs": [
        {
          "output_type": "stream",
          "text": [
            "[['날씨', '좋아'], ['날씨', '좋니'], ['날씨', '어떠니']]\n"
          ],
          "name": "stdout"
        }
      ]
    },
    {
      "cell_type": "code",
      "metadata": {
        "id": "caRnKvho7J72"
      },
      "source": [
        "tokenizer = Tokenizer()\n",
        "tokenizer.fit_on_texts(X_train)"
      ],
      "execution_count": 36,
      "outputs": []
    },
    {
      "cell_type": "code",
      "metadata": {
        "id": "I3tqJEg_7Kdd"
      },
      "source": [
        "X_train = tokenizer.texts_to_sequences(X_train)"
      ],
      "execution_count": 37,
      "outputs": []
    },
    {
      "cell_type": "code",
      "metadata": {
        "id": "8dZDp4zV7OwT"
      },
      "source": [
        "vocab_size = len(tokenizer.word_index) + 1"
      ],
      "execution_count": 38,
      "outputs": []
    },
    {
      "cell_type": "code",
      "metadata": {
        "id": "jynsbx717SCj"
      },
      "source": [
        "max_len = 10\n",
        "X_train = pad_sequences(X_train, maxlen = max_len, padding='post')"
      ],
      "execution_count": 39,
      "outputs": []
    },
    {
      "cell_type": "code",
      "metadata": {
        "colab": {
          "base_uri": "https://localhost:8080/"
        },
        "id": "OcqKneA37XeZ",
        "outputId": "196ff88d-c12f-4d8f-c286-08aafd5500bb"
      },
      "source": [
        "idx_encode = preprocessing.LabelEncoder()\n",
        "idx_encode.fit(new_df['intent'])\n",
        "\n",
        "y_train = idx_encode.transform(new_df['intent'])\n",
        "\n",
        "label_idx = dict(zip(list(idx_encode.classes_), idx_encode.transform(list(idx_encode.classes_))))\n",
        "print(label_idx)"
      ],
      "execution_count": 40,
      "outputs": [
        {
          "output_type": "stream",
          "text": [
            "{'날씨': 0, '뉴스': 1, '달력': 2, '맛집': 3, '먼지': 4, '명언': 5, '번역': 6, '시간': 7, '위키': 8, '음악': 9, '이슈': 10, '인물': 11}\n"
          ],
          "name": "stdout"
        }
      ]
    },
    {
      "cell_type": "code",
      "metadata": {
        "id": "StadVpIX7a_l"
      },
      "source": [
        "idx_label = {}\n",
        "for key, value in label_idx.items():\n",
        "    idx_label[value] = key"
      ],
      "execution_count": 41,
      "outputs": []
    },
    {
      "cell_type": "code",
      "metadata": {
        "id": "snNTOCzY7di5"
      },
      "source": [
        "model = Sequential()\n",
        "model.add(Embedding(vocab_size, 64))\n",
        "model.add(LSTM(256))\n",
        "model.add(Dense(64, activation='relu'))\n",
        "model.add(Dense(len(label_idx), activation='softmax'))"
      ],
      "execution_count": 42,
      "outputs": []
    },
    {
      "cell_type": "code",
      "metadata": {
        "colab": {
          "base_uri": "https://localhost:8080/"
        },
        "id": "uJVgd1Cv7fNm",
        "outputId": "b0634a9d-3153-4bed-b7c2-d82a6a86435f"
      },
      "source": [
        "model.compile(optimizer='rmsprop', loss='sparse_categorical_crossentropy', metrics=['acc'])\n",
        "model.fit(X_train, y_train, epochs = 15, batch_size = 64)"
      ],
      "execution_count": 43,
      "outputs": [
        {
          "output_type": "stream",
          "text": [
            "Epoch 1/15\n",
            "62/62 [==============================] - 4s 10ms/step - loss: 2.0935 - acc: 0.2338\n",
            "Epoch 2/15\n",
            "62/62 [==============================] - 1s 15ms/step - loss: 0.3740 - acc: 0.8876\n",
            "Epoch 3/15\n",
            "62/62 [==============================] - 1s 10ms/step - loss: 0.1721 - acc: 0.9516\n",
            "Epoch 4/15\n",
            "62/62 [==============================] - 1s 9ms/step - loss: 0.0997 - acc: 0.9732\n",
            "Epoch 5/15\n",
            "62/62 [==============================] - 1s 9ms/step - loss: 0.0567 - acc: 0.9831\n",
            "Epoch 6/15\n",
            "62/62 [==============================] - 1s 9ms/step - loss: 0.0510 - acc: 0.9860\n",
            "Epoch 7/15\n",
            "62/62 [==============================] - 1s 9ms/step - loss: 0.0564 - acc: 0.9859\n",
            "Epoch 8/15\n",
            "62/62 [==============================] - 1s 9ms/step - loss: 0.0453 - acc: 0.9875\n",
            "Epoch 9/15\n",
            "62/62 [==============================] - 1s 9ms/step - loss: 0.0401 - acc: 0.9880\n",
            "Epoch 10/15\n",
            "62/62 [==============================] - 1s 9ms/step - loss: 0.0387 - acc: 0.9905\n",
            "Epoch 11/15\n",
            "62/62 [==============================] - 1s 9ms/step - loss: 0.0170 - acc: 0.9945\n",
            "Epoch 12/15\n",
            "62/62 [==============================] - 1s 9ms/step - loss: 0.0215 - acc: 0.9936\n",
            "Epoch 13/15\n",
            "62/62 [==============================] - 1s 9ms/step - loss: 0.0358 - acc: 0.9936\n",
            "Epoch 14/15\n",
            "62/62 [==============================] - 1s 9ms/step - loss: 0.0303 - acc: 0.9920\n",
            "Epoch 15/15\n",
            "62/62 [==============================] - 1s 9ms/step - loss: 0.0099 - acc: 0.9962\n"
          ],
          "name": "stdout"
        },
        {
          "output_type": "execute_result",
          "data": {
            "text/plain": [
              "<tensorflow.python.keras.callbacks.History at 0x7f66d5080550>"
            ]
          },
          "metadata": {
            "tags": []
          },
          "execution_count": 43
        }
      ]
    },
    {
      "cell_type": "code",
      "metadata": {
        "id": "FmFJbp977g3q"
      },
      "source": [
        "input_sentence = question_processing(['서울 날씨 어때?', \n",
        "                                      '나는 전주 날씨 궁금함',\n",
        "                                      '안중근 의사는 누구야?',\n",
        "                                      '이순신 장군님은 어떤 사람이니?',\n",
        "                                      '명동 맛있는 음식점 있니?'\n",
        "                                     ])"
      ],
      "execution_count": 44,
      "outputs": []
    },
    {
      "cell_type": "code",
      "metadata": {
        "colab": {
          "base_uri": "https://localhost:8080/"
        },
        "id": "ttBOe2Ga7muj",
        "outputId": "cc4e9c29-ecbb-4c7b-ee6f-ec97f55a47b5"
      },
      "source": [
        "input_sentence"
      ],
      "execution_count": 45,
      "outputs": [
        {
          "output_type": "execute_result",
          "data": {
            "text/plain": [
              "array([[150,   9,  96, 149,   0,   0,   0,   0,   0,   0],\n",
              "       [ 30,  99, 136,   9,   0,   0,   0,   0,   0,   0],\n",
              "       [434,  99,   7, 101, 149,   0,   0,   0,   0,   0],\n",
              "       [433, 166,  74, 135, 154, 149,   0,   0,   0,   0],\n",
              "       [109, 103,  83, 149,   0,   0,   0,   0,   0,   0]], dtype=int32)"
            ]
          },
          "metadata": {
            "tags": []
          },
          "execution_count": 45
        }
      ]
    },
    {
      "cell_type": "code",
      "metadata": {
        "colab": {
          "base_uri": "https://localhost:8080/"
        },
        "id": "PYkmwA4x7pZg",
        "outputId": "86a3fecb-3bf6-46bb-b465-89a8609a6e1c"
      },
      "source": [
        "prediction = np.argmax(model.predict(input_sentence), axis=1)\n",
        "print(prediction)"
      ],
      "execution_count": 46,
      "outputs": [
        {
          "output_type": "stream",
          "text": [
            "[ 0  0 11 11  3]\n"
          ],
          "name": "stdout"
        }
      ]
    },
    {
      "cell_type": "code",
      "metadata": {
        "colab": {
          "base_uri": "https://localhost:8080/"
        },
        "id": "lTnmvsWf7qzr",
        "outputId": "f0b6f6ce-e27d-46f9-f7b2-a67526b38391"
      },
      "source": [
        "for p in prediction:\n",
        "    print(idx_label[p])"
      ],
      "execution_count": 47,
      "outputs": [
        {
          "output_type": "stream",
          "text": [
            "날씨\n",
            "날씨\n",
            "인물\n",
            "인물\n",
            "맛집\n"
          ],
          "name": "stdout"
        }
      ]
    }
  ]
}